{
 "cells": [
  {
   "cell_type": "markdown",
   "metadata": {
    "deletable": true,
    "editable": true
   },
   "source": [
    "# read data  "
   ]
  },
  {
   "cell_type": "markdown",
   "metadata": {
    "deletable": true,
    "editable": true
   },
   "source": [
    "## Read data from CSV\n"
   ]
  },
  {
   "cell_type": "code",
   "execution_count": 35,
   "metadata": {
    "collapsed": true,
    "deletable": true,
    "editable": true
   },
   "outputs": [],
   "source": [
    "import pandas as pd\n",
    "import numpy as np"
   ]
  },
  {
   "cell_type": "code",
   "execution_count": 36,
   "metadata": {
    "collapsed": false,
    "deletable": true,
    "editable": true
   },
   "outputs": [],
   "source": [
    "\n",
    "file=\"../TakeHomeChallenge/data/grocery/item_to_id.csv\"\n",
    "data=pd.read_csv(file)\n",
    "#item as a data frame "
   ]
  },
  {
   "cell_type": "code",
   "execution_count": 37,
   "metadata": {
    "collapsed": false,
    "deletable": true,
    "editable": true
   },
   "outputs": [
    {
     "data": {
      "text/html": [
       "<div>\n",
       "<style>\n",
       "    .dataframe thead tr:only-child th {\n",
       "        text-align: right;\n",
       "    }\n",
       "\n",
       "    .dataframe thead th {\n",
       "        text-align: left;\n",
       "    }\n",
       "\n",
       "    .dataframe tbody tr th {\n",
       "        vertical-align: top;\n",
       "    }\n",
       "</style>\n",
       "<table border=\"1\" class=\"dataframe\">\n",
       "  <thead>\n",
       "    <tr style=\"text-align: right;\">\n",
       "      <th></th>\n",
       "      <th>Item_name</th>\n",
       "      <th>Item_id</th>\n",
       "    </tr>\n",
       "  </thead>\n",
       "  <tbody>\n",
       "    <tr>\n",
       "      <th>0</th>\n",
       "      <td>coffee</td>\n",
       "      <td>43</td>\n",
       "    </tr>\n",
       "    <tr>\n",
       "      <th>1</th>\n",
       "      <td>tea</td>\n",
       "      <td>23</td>\n",
       "    </tr>\n",
       "    <tr>\n",
       "      <th>2</th>\n",
       "      <td>juice</td>\n",
       "      <td>38</td>\n",
       "    </tr>\n",
       "    <tr>\n",
       "      <th>3</th>\n",
       "      <td>soda</td>\n",
       "      <td>9</td>\n",
       "    </tr>\n",
       "    <tr>\n",
       "      <th>4</th>\n",
       "      <td>sandwich loaves</td>\n",
       "      <td>39</td>\n",
       "    </tr>\n",
       "  </tbody>\n",
       "</table>\n",
       "</div>"
      ],
      "text/plain": [
       "         Item_name  Item_id\n",
       "0           coffee       43\n",
       "1              tea       23\n",
       "2            juice       38\n",
       "3             soda        9\n",
       "4  sandwich loaves       39"
      ]
     },
     "execution_count": 37,
     "metadata": {},
     "output_type": "execute_result"
    }
   ],
   "source": [
    "data.head()"
   ]
  },
  {
   "cell_type": "markdown",
   "metadata": {
    "deletable": true,
    "editable": true
   },
   "source": [
    "### data frame column rename "
   ]
  },
  {
   "cell_type": "code",
   "execution_count": 38,
   "metadata": {
    "collapsed": false,
    "deletable": true,
    "editable": true
   },
   "outputs": [
    {
     "data": {
      "text/html": [
       "<div>\n",
       "<style>\n",
       "    .dataframe thead tr:only-child th {\n",
       "        text-align: right;\n",
       "    }\n",
       "\n",
       "    .dataframe thead th {\n",
       "        text-align: left;\n",
       "    }\n",
       "\n",
       "    .dataframe tbody tr th {\n",
       "        vertical-align: top;\n",
       "    }\n",
       "</style>\n",
       "<table border=\"1\" class=\"dataframe\">\n",
       "  <thead>\n",
       "    <tr style=\"text-align: right;\">\n",
       "      <th></th>\n",
       "      <th>Item</th>\n",
       "      <th>Id</th>\n",
       "    </tr>\n",
       "  </thead>\n",
       "  <tbody>\n",
       "    <tr>\n",
       "      <th>0</th>\n",
       "      <td>coffee</td>\n",
       "      <td>43</td>\n",
       "    </tr>\n",
       "    <tr>\n",
       "      <th>1</th>\n",
       "      <td>tea</td>\n",
       "      <td>23</td>\n",
       "    </tr>\n",
       "    <tr>\n",
       "      <th>2</th>\n",
       "      <td>juice</td>\n",
       "      <td>38</td>\n",
       "    </tr>\n",
       "    <tr>\n",
       "      <th>3</th>\n",
       "      <td>soda</td>\n",
       "      <td>9</td>\n",
       "    </tr>\n",
       "    <tr>\n",
       "      <th>4</th>\n",
       "      <td>sandwich loaves</td>\n",
       "      <td>39</td>\n",
       "    </tr>\n",
       "  </tbody>\n",
       "</table>\n",
       "</div>"
      ],
      "text/plain": [
       "              Item  Id\n",
       "0           coffee  43\n",
       "1              tea  23\n",
       "2            juice  38\n",
       "3             soda   9\n",
       "4  sandwich loaves  39"
      ]
     },
     "execution_count": 38,
     "metadata": {},
     "output_type": "execute_result"
    }
   ],
   "source": [
    "data2=pd.read_csv(file)\n",
    "data2.rename(columns={'Item_name':'Item','Item_id':'Id'},inplace=True)\n",
    "data2.head()"
   ]
  },
  {
   "cell_type": "markdown",
   "metadata": {
    "deletable": true,
    "editable": true
   },
   "source": [
    "## data read and data merge "
   ]
  },
  {
   "cell_type": "code",
   "execution_count": 39,
   "metadata": {
    "collapsed": false,
    "deletable": true,
    "editable": true
   },
   "outputs": [],
   "source": [
    "user=\"../TakeHomeChallenge/data\\Funnel\\\\user_table.csv\"\n",
    "home=\"../TakeHomeChallenge/data\\Funnel\\home_page_table.csv\"\n",
    "search=\"../TakeHomeChallenge/data\\Funnel\\search_page_table.csv\"\n",
    " \n",
    "user=pd.read_csv(user,header=0,parse_dates=[1])\n",
    "home=pd.read_csv(home,header=0) \n",
    "search=pd.read_csv(search,header=0)\n",
    " "
   ]
  },
  {
   "cell_type": "code",
   "execution_count": 40,
   "metadata": {
    "collapsed": false,
    "deletable": true,
    "editable": true
   },
   "outputs": [],
   "source": [
    "user.head() #user basic info\n",
    "home.head() #user list who land on home page\n",
    "search.head() #user list who land on search page \n",
    "d1=home.merge(search,how=\"left\",on=\"user_id\",suffixes=[\"_home\",\"_search\"])\n",
    "#merge on mutiple indexes \n",
    "#result = pd.merge(left, right, on=['key1', 'key2'])"
   ]
  },
  {
   "cell_type": "code",
   "execution_count": 41,
   "metadata": {
    "collapsed": false
   },
   "outputs": [
    {
     "name": "stdout",
     "output_type": "stream",
     "text": [
      "90400\n"
     ]
    },
    {
     "data": {
      "text/plain": [
       "45200"
      ]
     },
     "execution_count": 41,
     "metadata": {},
     "output_type": "execute_result"
    }
   ],
   "source": [
    "print(d1.shape[0])\n",
    "#check after data merge, one colume is null \n",
    "d1.loc[d1['page_search'].isnull(),:].shape[0]"
   ]
  },
  {
   "cell_type": "markdown",
   "metadata": {},
   "source": [
    "# python intersect"
   ]
  },
  {
   "cell_type": "code",
   "execution_count": 42,
   "metadata": {
    "collapsed": false
   },
   "outputs": [
    {
     "data": {
      "text/plain": [
       "45200"
      ]
     },
     "execution_count": 42,
     "metadata": {},
     "output_type": "execute_result"
    }
   ],
   "source": [
    "home.head()\n",
    "search.head()\n",
    "pd.Series(list(set(home.user_id).intersection(set(search.user_id)))).head()\n",
    "\n",
    "len(pd.Series(list(set(home.user_id) & set(search.user_id))))#45200\n",
    "#home.loc[home['user_id']==917509]\n",
    "#search.loc[search['user_id']==917509]"
   ]
  },
  {
   "cell_type": "markdown",
   "metadata": {},
   "source": [
    "# python except"
   ]
  },
  {
   "cell_type": "code",
   "execution_count": 43,
   "metadata": {
    "collapsed": false
   },
   "outputs": [
    {
     "data": {
      "text/html": [
       "<div>\n",
       "<style>\n",
       "    .dataframe thead tr:only-child th {\n",
       "        text-align: right;\n",
       "    }\n",
       "\n",
       "    .dataframe thead th {\n",
       "        text-align: left;\n",
       "    }\n",
       "\n",
       "    .dataframe tbody tr th {\n",
       "        vertical-align: top;\n",
       "    }\n",
       "</style>\n",
       "<table border=\"1\" class=\"dataframe\">\n",
       "  <thead>\n",
       "    <tr style=\"text-align: right;\">\n",
       "      <th></th>\n",
       "      <th>user_id</th>\n",
       "      <th>page</th>\n",
       "    </tr>\n",
       "  </thead>\n",
       "  <tbody>\n",
       "    <tr>\n",
       "      <th>0</th>\n",
       "      <td>313593</td>\n",
       "      <td>home_page</td>\n",
       "    </tr>\n",
       "    <tr>\n",
       "      <th>1</th>\n",
       "      <td>468315</td>\n",
       "      <td>home_page</td>\n",
       "    </tr>\n",
       "    <tr>\n",
       "      <th>2</th>\n",
       "      <td>264005</td>\n",
       "      <td>home_page</td>\n",
       "    </tr>\n",
       "    <tr>\n",
       "      <th>3</th>\n",
       "      <td>290784</td>\n",
       "      <td>home_page</td>\n",
       "    </tr>\n",
       "    <tr>\n",
       "      <th>5</th>\n",
       "      <td>262889</td>\n",
       "      <td>home_page</td>\n",
       "    </tr>\n",
       "  </tbody>\n",
       "</table>\n",
       "</div>"
      ],
      "text/plain": [
       "   user_id       page\n",
       "0   313593  home_page\n",
       "1   468315  home_page\n",
       "2   264005  home_page\n",
       "3   290784  home_page\n",
       "5   262889  home_page"
      ]
     },
     "execution_count": 43,
     "metadata": {},
     "output_type": "execute_result"
    }
   ],
   "source": [
    "pd.Series(list(set(home.user_id) -set(search.user_id)))\n",
    "\n",
    "home[~home['user_id'].isin(search ['user_id'])].head() #45200 rows, example user_id =313593"
   ]
  },
  {
   "cell_type": "code",
   "execution_count": 44,
   "metadata": {
    "collapsed": false
   },
   "outputs": [
    {
     "data": {
      "text/html": [
       "<div>\n",
       "<style>\n",
       "    .dataframe thead tr:only-child th {\n",
       "        text-align: right;\n",
       "    }\n",
       "\n",
       "    .dataframe thead th {\n",
       "        text-align: left;\n",
       "    }\n",
       "\n",
       "    .dataframe tbody tr th {\n",
       "        vertical-align: top;\n",
       "    }\n",
       "</style>\n",
       "<table border=\"1\" class=\"dataframe\">\n",
       "  <thead>\n",
       "    <tr style=\"text-align: right;\">\n",
       "      <th></th>\n",
       "      <th>user_id</th>\n",
       "      <th>page</th>\n",
       "    </tr>\n",
       "  </thead>\n",
       "  <tbody>\n",
       "  </tbody>\n",
       "</table>\n",
       "</div>"
      ],
      "text/plain": [
       "Empty DataFrame\n",
       "Columns: [user_id, page]\n",
       "Index: []"
      ]
     },
     "execution_count": 44,
     "metadata": {},
     "output_type": "execute_result"
    }
   ],
   "source": [
    "#verification of above except function in python \n",
    "home.loc[home['user_id']==313593]\n",
    "search.loc[search['user_id']==313593]"
   ]
  },
  {
   "cell_type": "markdown",
   "metadata": {
    "deletable": true,
    "editable": true
   },
   "source": [
    "## Read data from Json"
   ]
  },
  {
   "cell_type": "code",
   "execution_count": 45,
   "metadata": {
    "collapsed": false,
    "deletable": true,
    "editable": true
   },
   "outputs": [],
   "source": [
    "import json\n",
    "json_data=open(\"../TakeHomeChallenge/data/song.json\").read()\n",
    "\n",
    "jsdata = json.loads(json_data)\n",
    "#data as a list\n",
    "js_df=pd.DataFrame(jsdata)\n",
    "music=js_df\n",
    "#df as a data frame\n",
    " "
   ]
  },
  {
   "cell_type": "markdown",
   "metadata": {
    "deletable": true,
    "editable": true
   },
   "source": [
    "## read data from online-beautiful soup "
   ]
  },
  {
   "cell_type": "code",
   "execution_count": 46,
   "metadata": {
    "collapsed": false,
    "deletable": true,
    "editable": true
   },
   "outputs": [
    {
     "name": "stdout",
     "output_type": "stream",
     "text": [
      "<html>\n",
      " <head>\n",
      "  <title>\n",
      "   The Dormouse's story\n",
      "  </title>\n",
      " </head>\n",
      " <body>\n",
      "  <p class=\"title\">\n",
      "   <b>\n",
      "    The Dormouse's story\n",
      "   </b>\n",
      "  </p>\n",
      "  <p class=\"story\">\n",
      "   Once upon a time there were three little sisters; and their names were\n",
      "   <a class=\"sister\" href=\"http://example.com/elsie\" id=\"link1\">\n",
      "    Elsie\n",
      "   </a>\n",
      "   ,\n",
      "   <a class=\"sister\" href=\"http://example.com/lacie\" id=\"link2\">\n",
      "    Lacie\n",
      "   </a>\n",
      "   and\n",
      "   <a class=\"sister\" href=\"http://example.com/tillie\" id=\"link3\">\n",
      "    Tillie\n",
      "   </a>\n",
      "   ;\n",
      "and they lived at the bottom of a well.\n",
      "  </p>\n",
      "  <p class=\"story\">\n",
      "   ...\n",
      "  </p>\n",
      " </body>\n",
      "</html>\n"
     ]
    }
   ],
   "source": [
    "html_doc = \"\"\"\n",
    "<html><head><title>The Dormouse's story</title></head>\n",
    "<body>\n",
    "<p class=\"title\"><b>The Dormouse's story</b></p>\n",
    "\n",
    "<p class=\"story\">Once upon a time there were three little sisters; and their names were\n",
    "<a href=\"http://example.com/elsie\" class=\"sister\" id=\"link1\">Elsie</a>,\n",
    "<a href=\"http://example.com/lacie\" class=\"sister\" id=\"link2\">Lacie</a> and\n",
    "<a href=\"http://example.com/tillie\" class=\"sister\" id=\"link3\">Tillie</a>;\n",
    "and they lived at the bottom of a well.</p>\n",
    "\n",
    "<p class=\"story\">...</p>\n",
    "\"\"\"\n",
    "from bs4 import BeautifulSoup\n",
    "soup = BeautifulSoup(html_doc, 'html.parser')\n",
    "\n",
    "print(soup.prettify())"
   ]
  },
  {
   "cell_type": "code",
   "execution_count": 47,
   "metadata": {
    "collapsed": false,
    "deletable": true,
    "editable": true
   },
   "outputs": [
    {
     "name": "stdout",
     "output_type": "stream",
     "text": [
      "http://example.com/elsie\n",
      "http://example.com/lacie\n",
      "http://example.com/tillie\n",
      "\n",
      "The Dormouse's story\n",
      "\n",
      "The Dormouse's story\n",
      "Once upon a time there were three little sisters; and their names were\n",
      "Elsie,\n",
      "Lacie and\n",
      "Tillie;\n",
      "and they lived at the bottom of a well.\n",
      "...\n",
      "\n"
     ]
    }
   ],
   "source": [
    "soup.title\n",
    "soup.find_all('a')\n",
    "for link in soup.find_all('a'):\n",
    "    print(link.get('href'))\n",
    "    \n",
    "print(soup.get_text())"
   ]
  },
  {
   "cell_type": "markdown",
   "metadata": {
    "deletable": true,
    "editable": true
   },
   "source": [
    "## get a list "
   ]
  },
  {
   "cell_type": "code",
   "execution_count": 48,
   "metadata": {
    "collapsed": false,
    "deletable": true,
    "editable": true
   },
   "outputs": [
    {
     "data": {
      "text/plain": [
       "{0, 1, 2}"
      ]
     },
     "execution_count": 48,
     "metadata": {},
     "output_type": "execute_result"
    }
   ],
   "source": [
    "list=[i for i in range(10)]#create a list\n",
    "list\n",
    "\n",
    "list2=[i for i in range(3,16)]#create a list\n",
    "#get elements in one list but not ther other\n",
    "set(list)-set(list2)"
   ]
  },
  {
   "cell_type": "markdown",
   "metadata": {
    "deletable": true,
    "editable": true
   },
   "source": [
    "## define a dictionary "
   ]
  },
  {
   "cell_type": "code",
   "execution_count": 49,
   "metadata": {
    "collapsed": false,
    "deletable": true,
    "editable": true
   },
   "outputs": [
    {
     "name": "stdout",
     "output_type": "stream",
     "text": [
      "dict key is a value is 1\n",
      "dict key is b value is 2\n",
      "dict item is ('a', 1)\n",
      "dict item is ('b', 2)\n",
      "dict value is 1\n",
      "dict value is 2\n",
      "dict key is a\n",
      "dict key is b\n"
     ]
    }
   ],
   "source": [
    "dict={}\n",
    "dict={\"a\":1,\"b\":2}\n",
    "#dict[\"a\"] #get value from dictionary based on key value\n",
    "for i in dict:\n",
    "    print(\"dict key is {0} value is {1}\".format(i,dict[i]))\n",
    "\n",
    "for i in dict.items():\n",
    "    print(\"dict item is {0}\".format(i)) \n",
    "for i in dict.values():\n",
    "    print(\"dict value is {0}\".format(i))  \n",
    "for i in dict.keys():\n",
    "    print(\"dict key is {0}\".format(i))  "
   ]
  },
  {
   "cell_type": "markdown",
   "metadata": {
    "deletable": true,
    "editable": true
   },
   "source": [
    "# data query "
   ]
  },
  {
   "cell_type": "markdown",
   "metadata": {
    "deletable": true,
    "editable": true
   },
   "source": [
    "## get sample value from data frame"
   ]
  },
  {
   "cell_type": "code",
   "execution_count": 50,
   "metadata": {
    "collapsed": false,
    "deletable": true,
    "editable": true
   },
   "outputs": [
    {
     "data": {
      "text/html": [
       "<div>\n",
       "<style>\n",
       "    .dataframe thead tr:only-child th {\n",
       "        text-align: right;\n",
       "    }\n",
       "\n",
       "    .dataframe thead th {\n",
       "        text-align: left;\n",
       "    }\n",
       "\n",
       "    .dataframe tbody tr th {\n",
       "        vertical-align: top;\n",
       "    }\n",
       "</style>\n",
       "<table border=\"1\" class=\"dataframe\">\n",
       "  <thead>\n",
       "    <tr style=\"text-align: right;\">\n",
       "      <th></th>\n",
       "      <th>Item_name</th>\n",
       "      <th>Item_id</th>\n",
       "    </tr>\n",
       "  </thead>\n",
       "  <tbody>\n",
       "    <tr>\n",
       "      <th>42</th>\n",
       "      <td>shampoo</td>\n",
       "      <td>12</td>\n",
       "    </tr>\n",
       "    <tr>\n",
       "      <th>45</th>\n",
       "      <td>shaving cream</td>\n",
       "      <td>19</td>\n",
       "    </tr>\n",
       "    <tr>\n",
       "      <th>2</th>\n",
       "      <td>juice</td>\n",
       "      <td>38</td>\n",
       "    </tr>\n",
       "    <tr>\n",
       "      <th>7</th>\n",
       "      <td>bagels</td>\n",
       "      <td>13</td>\n",
       "    </tr>\n",
       "    <tr>\n",
       "      <th>10</th>\n",
       "      <td>ketchup</td>\n",
       "      <td>41</td>\n",
       "    </tr>\n",
       "  </tbody>\n",
       "</table>\n",
       "</div>"
      ],
      "text/plain": [
       "        Item_name  Item_id\n",
       "42        shampoo       12\n",
       "45  shaving cream       19\n",
       "2           juice       38\n",
       "7          bagels       13\n",
       "10        ketchup       41"
      ]
     },
     "execution_count": 50,
     "metadata": {},
     "output_type": "execute_result"
    }
   ],
   "source": [
    "data.head()\n",
    "data.tail()\n",
    "data.sample(5)#default returns one record, takes parameters "
   ]
  },
  {
   "cell_type": "markdown",
   "metadata": {
    "deletable": true,
    "editable": true
   },
   "source": [
    "## get row count from data frame, list, array "
   ]
  },
  {
   "cell_type": "code",
   "execution_count": 51,
   "metadata": {
    "collapsed": false,
    "deletable": true,
    "editable": true
   },
   "outputs": [
    {
     "data": {
      "text/plain": [
       "10"
      ]
     },
     "execution_count": 51,
     "metadata": {},
     "output_type": "execute_result"
    }
   ],
   "source": [
    "data.shape[0]#row count of data frame\n",
    "len(data) #row count of data frame or list\n",
    "\n",
    "len(list)#item count of list "
   ]
  },
  {
   "cell_type": "markdown",
   "metadata": {
    "deletable": true,
    "editable": true
   },
   "source": [
    "## data query by columns"
   ]
  },
  {
   "cell_type": "code",
   "execution_count": 52,
   "metadata": {
    "collapsed": false,
    "deletable": true,
    "editable": true
   },
   "outputs": [
    {
     "data": {
      "text/html": [
       "<div>\n",
       "<style>\n",
       "    .dataframe thead tr:only-child th {\n",
       "        text-align: right;\n",
       "    }\n",
       "\n",
       "    .dataframe thead th {\n",
       "        text-align: left;\n",
       "    }\n",
       "\n",
       "    .dataframe tbody tr th {\n",
       "        vertical-align: top;\n",
       "    }\n",
       "</style>\n",
       "<table border=\"1\" class=\"dataframe\">\n",
       "  <thead>\n",
       "    <tr style=\"text-align: right;\">\n",
       "      <th></th>\n",
       "      <th>Item_name</th>\n",
       "      <th>Item_id</th>\n",
       "    </tr>\n",
       "  </thead>\n",
       "  <tbody>\n",
       "    <tr>\n",
       "      <th>0</th>\n",
       "      <td>coffee</td>\n",
       "      <td>43</td>\n",
       "    </tr>\n",
       "    <tr>\n",
       "      <th>1</th>\n",
       "      <td>tea</td>\n",
       "      <td>23</td>\n",
       "    </tr>\n",
       "    <tr>\n",
       "      <th>2</th>\n",
       "      <td>juice</td>\n",
       "      <td>38</td>\n",
       "    </tr>\n",
       "    <tr>\n",
       "      <th>3</th>\n",
       "      <td>soda</td>\n",
       "      <td>9</td>\n",
       "    </tr>\n",
       "    <tr>\n",
       "      <th>4</th>\n",
       "      <td>sandwich loaves</td>\n",
       "      <td>39</td>\n",
       "    </tr>\n",
       "  </tbody>\n",
       "</table>\n",
       "</div>"
      ],
      "text/plain": [
       "         Item_name  Item_id\n",
       "0           coffee       43\n",
       "1              tea       23\n",
       "2            juice       38\n",
       "3             soda        9\n",
       "4  sandwich loaves       39"
      ]
     },
     "execution_count": 52,
     "metadata": {},
     "output_type": "execute_result"
    }
   ],
   "source": [
    "data.head()"
   ]
  },
  {
   "cell_type": "code",
   "execution_count": 53,
   "metadata": {
    "collapsed": false,
    "deletable": true,
    "editable": true
   },
   "outputs": [
    {
     "data": {
      "text/plain": [
       "0     43\n",
       "1     23\n",
       "2     38\n",
       "3      9\n",
       "4     39\n",
       "5     37\n",
       "6     34\n",
       "7     13\n",
       "8     28\n",
       "9     26\n",
       "10    41\n",
       "11    21\n",
       "12    14\n",
       "13    16\n",
       "14    48\n",
       "15     8\n",
       "16    11\n",
       "17    30\n",
       "18     1\n",
       "19    31\n",
       "20     5\n",
       "21    22\n",
       "22    36\n",
       "23     6\n",
       "24    17\n",
       "25    47\n",
       "26    46\n",
       "27    40\n",
       "28    25\n",
       "29    20\n",
       "30    32\n",
       "31    44\n",
       "32    10\n",
       "33    45\n",
       "34    42\n",
       "35     2\n",
       "36    18\n",
       "37    27\n",
       "38    24\n",
       "39    33\n",
       "40    15\n",
       "41     7\n",
       "42    12\n",
       "43    35\n",
       "44    29\n",
       "45    19\n",
       "46     4\n",
       "47     3\n",
       "Name: Item_id, dtype: int64"
      ]
     },
     "execution_count": 53,
     "metadata": {},
     "output_type": "execute_result"
    }
   ],
   "source": [
    "data.head()\n",
    "data['Item_name']#query by column name\n",
    "#df.loc[row_indexer,column_indexer]\n",
    "data.loc[:,'Item_name']#query by column name\n",
    "data.loc[0,'Item_name']#query by column name, and row index \n",
    "#data.loc[0,data['Item_name']!='']#query by column name, and row index \n",
    "\n",
    "data.iloc[:,1]#iloc query, query by numeric"
   ]
  },
  {
   "cell_type": "markdown",
   "metadata": {
    "deletable": true,
    "editable": true
   },
   "source": [
    "## data query by rows "
   ]
  },
  {
   "cell_type": "code",
   "execution_count": 54,
   "metadata": {
    "collapsed": false,
    "deletable": true,
    "editable": true
   },
   "outputs": [
    {
     "data": {
      "text/plain": [
       "Item_name    tea\n",
       "Item_id       23\n",
       "Name: 1, dtype: object"
      ]
     },
     "execution_count": 54,
     "metadata": {},
     "output_type": "execute_result"
    }
   ],
   "source": [
    "data.loc[1,:] #query row by index "
   ]
  },
  {
   "cell_type": "markdown",
   "metadata": {
    "deletable": true,
    "editable": true
   },
   "source": [
    "## data query by sepcific condition "
   ]
  },
  {
   "cell_type": "code",
   "execution_count": 55,
   "metadata": {
    "collapsed": false,
    "deletable": true,
    "editable": true
   },
   "outputs": [
    {
     "data": {
      "text/html": [
       "<div>\n",
       "<style>\n",
       "    .dataframe thead tr:only-child th {\n",
       "        text-align: right;\n",
       "    }\n",
       "\n",
       "    .dataframe thead th {\n",
       "        text-align: left;\n",
       "    }\n",
       "\n",
       "    .dataframe tbody tr th {\n",
       "        vertical-align: top;\n",
       "    }\n",
       "</style>\n",
       "<table border=\"1\" class=\"dataframe\">\n",
       "  <thead>\n",
       "    <tr style=\"text-align: right;\">\n",
       "      <th></th>\n",
       "      <th>Item_name</th>\n",
       "      <th>Item_id</th>\n",
       "    </tr>\n",
       "  </thead>\n",
       "  <tbody>\n",
       "    <tr>\n",
       "      <th>0</th>\n",
       "      <td>coffee</td>\n",
       "      <td>43</td>\n",
       "    </tr>\n",
       "  </tbody>\n",
       "</table>\n",
       "</div>"
      ],
      "text/plain": [
       "  Item_name  Item_id\n",
       "0    coffee       43"
      ]
     },
     "execution_count": 55,
     "metadata": {},
     "output_type": "execute_result"
    }
   ],
   "source": [
    "data.loc[data['Item_name']==\"coffee\",:] #query by specific condition"
   ]
  },
  {
   "cell_type": "code",
   "execution_count": 56,
   "metadata": {
    "collapsed": false,
    "deletable": true,
    "editable": true
   },
   "outputs": [
    {
     "data": {
      "text/html": [
       "<div>\n",
       "<style>\n",
       "    .dataframe thead tr:only-child th {\n",
       "        text-align: right;\n",
       "    }\n",
       "\n",
       "    .dataframe thead th {\n",
       "        text-align: left;\n",
       "    }\n",
       "\n",
       "    .dataframe tbody tr th {\n",
       "        vertical-align: top;\n",
       "    }\n",
       "</style>\n",
       "<table border=\"1\" class=\"dataframe\">\n",
       "  <thead>\n",
       "    <tr style=\"text-align: right;\">\n",
       "      <th></th>\n",
       "      <th>Item_name</th>\n",
       "      <th>Item_id</th>\n",
       "    </tr>\n",
       "  </thead>\n",
       "  <tbody>\n",
       "    <tr>\n",
       "      <th>1</th>\n",
       "      <td>tea</td>\n",
       "      <td>23</td>\n",
       "    </tr>\n",
       "  </tbody>\n",
       "</table>\n",
       "</div>"
      ],
      "text/plain": [
       "  Item_name  Item_id\n",
       "1       tea       23"
      ]
     },
     "execution_count": 56,
     "metadata": {},
     "output_type": "execute_result"
    }
   ],
   "source": [
    "data.loc[(data['Item_name']!=\"coffee\") & (data['Item_name']==\"tea\"),:] #query by specific condition"
   ]
  },
  {
   "cell_type": "markdown",
   "metadata": {
    "deletable": true,
    "editable": true
   },
   "source": [
    "# NULL query "
   ]
  },
  {
   "cell_type": "code",
   "execution_count": 57,
   "metadata": {
    "collapsed": false,
    "deletable": true,
    "editable": true
   },
   "outputs": [
    {
     "data": {
      "text/plain": [
       "True    48\n",
       "Name: Item_name, dtype: int64"
      ]
     },
     "execution_count": 57,
     "metadata": {},
     "output_type": "execute_result"
    }
   ],
   "source": [
    "#check whether values is null or not in data frame \n",
    "pd.notnull(data['Item_name']).value_counts()"
   ]
  },
  {
   "cell_type": "raw",
   "metadata": {
    "deletable": true,
    "editable": true
   },
   "source": [
    "data['Item_name'].value_counts()"
   ]
  },
  {
   "cell_type": "markdown",
   "metadata": {
    "deletable": true,
    "editable": true
   },
   "source": [
    "## index related operations"
   ]
  },
  {
   "cell_type": "code",
   "execution_count": 58,
   "metadata": {
    "collapsed": false,
    "deletable": true,
    "editable": true
   },
   "outputs": [
    {
     "data": {
      "text/html": [
       "<div>\n",
       "<style>\n",
       "    .dataframe thead tr:only-child th {\n",
       "        text-align: right;\n",
       "    }\n",
       "\n",
       "    .dataframe thead th {\n",
       "        text-align: left;\n",
       "    }\n",
       "\n",
       "    .dataframe tbody tr th {\n",
       "        vertical-align: top;\n",
       "    }\n",
       "</style>\n",
       "<table border=\"1\" class=\"dataframe\">\n",
       "  <thead>\n",
       "    <tr style=\"text-align: right;\">\n",
       "      <th></th>\n",
       "      <th>Item_name</th>\n",
       "    </tr>\n",
       "  </thead>\n",
       "  <tbody>\n",
       "    <tr>\n",
       "      <th>0</th>\n",
       "      <td>coffee</td>\n",
       "    </tr>\n",
       "    <tr>\n",
       "      <th>1</th>\n",
       "      <td>tea</td>\n",
       "    </tr>\n",
       "    <tr>\n",
       "      <th>2</th>\n",
       "      <td>juice</td>\n",
       "    </tr>\n",
       "    <tr>\n",
       "      <th>3</th>\n",
       "      <td>soda</td>\n",
       "    </tr>\n",
       "    <tr>\n",
       "      <th>4</th>\n",
       "      <td>sandwich loaves</td>\n",
       "    </tr>\n",
       "    <tr>\n",
       "      <th>5</th>\n",
       "      <td>dinner rolls</td>\n",
       "    </tr>\n",
       "    <tr>\n",
       "      <th>6</th>\n",
       "      <td>tortillas</td>\n",
       "    </tr>\n",
       "    <tr>\n",
       "      <th>7</th>\n",
       "      <td>bagels</td>\n",
       "    </tr>\n",
       "    <tr>\n",
       "      <th>8</th>\n",
       "      <td>canned vegetables</td>\n",
       "    </tr>\n",
       "    <tr>\n",
       "      <th>9</th>\n",
       "      <td>spaghetti sauce</td>\n",
       "    </tr>\n",
       "    <tr>\n",
       "      <th>10</th>\n",
       "      <td>ketchup</td>\n",
       "    </tr>\n",
       "    <tr>\n",
       "      <th>11</th>\n",
       "      <td>cheeses</td>\n",
       "    </tr>\n",
       "    <tr>\n",
       "      <th>12</th>\n",
       "      <td>eggs</td>\n",
       "    </tr>\n",
       "    <tr>\n",
       "      <th>13</th>\n",
       "      <td>milk</td>\n",
       "    </tr>\n",
       "    <tr>\n",
       "      <th>14</th>\n",
       "      <td>yogurt</td>\n",
       "    </tr>\n",
       "    <tr>\n",
       "      <th>15</th>\n",
       "      <td>butter</td>\n",
       "    </tr>\n",
       "    <tr>\n",
       "      <th>16</th>\n",
       "      <td>cereals</td>\n",
       "    </tr>\n",
       "    <tr>\n",
       "      <th>17</th>\n",
       "      <td>flour</td>\n",
       "    </tr>\n",
       "    <tr>\n",
       "      <th>18</th>\n",
       "      <td>sugar</td>\n",
       "    </tr>\n",
       "    <tr>\n",
       "      <th>19</th>\n",
       "      <td>pasta</td>\n",
       "    </tr>\n",
       "    <tr>\n",
       "      <th>20</th>\n",
       "      <td>waffles</td>\n",
       "    </tr>\n",
       "    <tr>\n",
       "      <th>21</th>\n",
       "      <td>frozen vegetables</td>\n",
       "    </tr>\n",
       "    <tr>\n",
       "      <th>22</th>\n",
       "      <td>ice cream</td>\n",
       "    </tr>\n",
       "    <tr>\n",
       "      <th>23</th>\n",
       "      <td>poultry</td>\n",
       "    </tr>\n",
       "    <tr>\n",
       "      <th>24</th>\n",
       "      <td>beef</td>\n",
       "    </tr>\n",
       "    <tr>\n",
       "      <th>25</th>\n",
       "      <td>pork</td>\n",
       "    </tr>\n",
       "    <tr>\n",
       "      <th>26</th>\n",
       "      <td>bananas</td>\n",
       "    </tr>\n",
       "    <tr>\n",
       "      <th>27</th>\n",
       "      <td>berries</td>\n",
       "    </tr>\n",
       "    <tr>\n",
       "      <th>28</th>\n",
       "      <td>cherries</td>\n",
       "    </tr>\n",
       "    <tr>\n",
       "      <th>29</th>\n",
       "      <td>grapefruit</td>\n",
       "    </tr>\n",
       "    <tr>\n",
       "      <th>30</th>\n",
       "      <td>apples</td>\n",
       "    </tr>\n",
       "    <tr>\n",
       "      <th>31</th>\n",
       "      <td>broccoli</td>\n",
       "    </tr>\n",
       "    <tr>\n",
       "      <th>32</th>\n",
       "      <td>carrots</td>\n",
       "    </tr>\n",
       "    <tr>\n",
       "      <th>33</th>\n",
       "      <td>cauliflower</td>\n",
       "    </tr>\n",
       "    <tr>\n",
       "      <th>34</th>\n",
       "      <td>cucumbers</td>\n",
       "    </tr>\n",
       "    <tr>\n",
       "      <th>35</th>\n",
       "      <td>lettuce</td>\n",
       "    </tr>\n",
       "    <tr>\n",
       "      <th>36</th>\n",
       "      <td>laundry detergent</td>\n",
       "    </tr>\n",
       "    <tr>\n",
       "      <th>37</th>\n",
       "      <td>dishwashing</td>\n",
       "    </tr>\n",
       "    <tr>\n",
       "      <th>38</th>\n",
       "      <td>paper towels</td>\n",
       "    </tr>\n",
       "    <tr>\n",
       "      <th>39</th>\n",
       "      <td>toilet paper</td>\n",
       "    </tr>\n",
       "    <tr>\n",
       "      <th>40</th>\n",
       "      <td>aluminum foil</td>\n",
       "    </tr>\n",
       "    <tr>\n",
       "      <th>41</th>\n",
       "      <td>sandwich bags</td>\n",
       "    </tr>\n",
       "    <tr>\n",
       "      <th>42</th>\n",
       "      <td>shampoo</td>\n",
       "    </tr>\n",
       "    <tr>\n",
       "      <th>43</th>\n",
       "      <td>soap</td>\n",
       "    </tr>\n",
       "    <tr>\n",
       "      <th>44</th>\n",
       "      <td>hand soap</td>\n",
       "    </tr>\n",
       "    <tr>\n",
       "      <th>45</th>\n",
       "      <td>shaving cream</td>\n",
       "    </tr>\n",
       "    <tr>\n",
       "      <th>46</th>\n",
       "      <td>baby items</td>\n",
       "    </tr>\n",
       "    <tr>\n",
       "      <th>47</th>\n",
       "      <td>pet items</td>\n",
       "    </tr>\n",
       "  </tbody>\n",
       "</table>\n",
       "</div>"
      ],
      "text/plain": [
       "            Item_name\n",
       "0              coffee\n",
       "1                 tea\n",
       "2               juice\n",
       "3                soda\n",
       "4     sandwich loaves\n",
       "5        dinner rolls\n",
       "6           tortillas\n",
       "7              bagels\n",
       "8   canned vegetables\n",
       "9     spaghetti sauce\n",
       "10            ketchup\n",
       "11            cheeses\n",
       "12               eggs\n",
       "13               milk\n",
       "14             yogurt\n",
       "15             butter\n",
       "16            cereals\n",
       "17              flour\n",
       "18              sugar\n",
       "19              pasta\n",
       "20            waffles\n",
       "21  frozen vegetables\n",
       "22          ice cream\n",
       "23            poultry\n",
       "24               beef\n",
       "25               pork\n",
       "26            bananas\n",
       "27            berries\n",
       "28           cherries\n",
       "29         grapefruit\n",
       "30             apples\n",
       "31           broccoli\n",
       "32            carrots\n",
       "33        cauliflower\n",
       "34          cucumbers\n",
       "35            lettuce\n",
       "36  laundry detergent\n",
       "37       dishwashing \n",
       "38       paper towels\n",
       "39       toilet paper\n",
       "40      aluminum foil\n",
       "41      sandwich bags\n",
       "42            shampoo\n",
       "43               soap\n",
       "44          hand soap\n",
       "45      shaving cream\n",
       "46         baby items\n",
       "47          pet items"
      ]
     },
     "execution_count": 58,
     "metadata": {},
     "output_type": "execute_result"
    }
   ],
   "source": [
    "data_idx=data.set_index(\"Item_id\")\n",
    "#data_idx.head()\n",
    "\n",
    "data_idx.reset_index() #reset index, and make current index as a column\n",
    "data_idx.reset_index(drop=True)#reset index, and drop previous index "
   ]
  },
  {
   "cell_type": "markdown",
   "metadata": {
    "deletable": true,
    "editable": true
   },
   "source": [
    "# Data aggregation"
   ]
  },
  {
   "cell_type": "markdown",
   "metadata": {
    "deletable": true,
    "editable": true
   },
   "source": [
    "## Group by"
   ]
  },
  {
   "cell_type": "code",
   "execution_count": 59,
   "metadata": {
    "collapsed": false,
    "deletable": true,
    "editable": true
   },
   "outputs": [
    {
     "data": {
      "text/html": [
       "<div>\n",
       "<style>\n",
       "    .dataframe thead tr:only-child th {\n",
       "        text-align: right;\n",
       "    }\n",
       "\n",
       "    .dataframe thead th {\n",
       "        text-align: left;\n",
       "    }\n",
       "\n",
       "    .dataframe tbody tr th {\n",
       "        vertical-align: top;\n",
       "    }\n",
       "</style>\n",
       "<table border=\"1\" class=\"dataframe\">\n",
       "  <thead>\n",
       "    <tr style=\"text-align: right;\">\n",
       "      <th></th>\n",
       "      <th>id</th>\n",
       "      <th>song_played</th>\n",
       "      <th>time_played</th>\n",
       "      <th>user_id</th>\n",
       "      <th>user_sign_up_date</th>\n",
       "      <th>user_state</th>\n",
       "    </tr>\n",
       "  </thead>\n",
       "  <tbody>\n",
       "    <tr>\n",
       "      <th>0</th>\n",
       "      <td>GOQMMKSQQH</td>\n",
       "      <td>Hey Jude</td>\n",
       "      <td>2015-06-11 21:51:35</td>\n",
       "      <td>122</td>\n",
       "      <td>2015-05-16</td>\n",
       "      <td>Louisiana</td>\n",
       "    </tr>\n",
       "    <tr>\n",
       "      <th>1</th>\n",
       "      <td>HWKKBQKNWI</td>\n",
       "      <td>We Can Work It Out</td>\n",
       "      <td>2015-06-06 16:49:19</td>\n",
       "      <td>3</td>\n",
       "      <td>2015-05-01</td>\n",
       "      <td>Ohio</td>\n",
       "    </tr>\n",
       "    <tr>\n",
       "      <th>2</th>\n",
       "      <td>DKQSXVNJDH</td>\n",
       "      <td>Back In the U.S.S.R.</td>\n",
       "      <td>2015-06-14 02:11:29</td>\n",
       "      <td>35</td>\n",
       "      <td>2015-05-04</td>\n",
       "      <td>New Jersey</td>\n",
       "    </tr>\n",
       "    <tr>\n",
       "      <th>3</th>\n",
       "      <td>HLHRIDQTUW</td>\n",
       "      <td>P.s. I Love You</td>\n",
       "      <td>2015-06-08 12:26:10</td>\n",
       "      <td>126</td>\n",
       "      <td>2015-05-16</td>\n",
       "      <td>Illinois</td>\n",
       "    </tr>\n",
       "    <tr>\n",
       "      <th>4</th>\n",
       "      <td>SUKJCSBCYW</td>\n",
       "      <td>Sgt. Pepper's Lonely Hearts Club Band</td>\n",
       "      <td>2015-06-28 14:57:00</td>\n",
       "      <td>6</td>\n",
       "      <td>2015-05-01</td>\n",
       "      <td>New Jersey</td>\n",
       "    </tr>\n",
       "  </tbody>\n",
       "</table>\n",
       "</div>"
      ],
      "text/plain": [
       "           id                            song_played          time_played  \\\n",
       "0  GOQMMKSQQH                               Hey Jude  2015-06-11 21:51:35   \n",
       "1  HWKKBQKNWI                     We Can Work It Out  2015-06-06 16:49:19   \n",
       "2  DKQSXVNJDH                   Back In the U.S.S.R.  2015-06-14 02:11:29   \n",
       "3  HLHRIDQTUW                        P.s. I Love You  2015-06-08 12:26:10   \n",
       "4  SUKJCSBCYW  Sgt. Pepper's Lonely Hearts Club Band  2015-06-28 14:57:00   \n",
       "\n",
       "   user_id user_sign_up_date  user_state  \n",
       "0      122        2015-05-16   Louisiana  \n",
       "1        3        2015-05-01        Ohio  \n",
       "2       35        2015-05-04  New Jersey  \n",
       "3      126        2015-05-16    Illinois  \n",
       "4        6        2015-05-01  New Jersey  "
      ]
     },
     "execution_count": 59,
     "metadata": {},
     "output_type": "execute_result"
    }
   ],
   "source": [
    "music.head()"
   ]
  },
  {
   "cell_type": "code",
   "execution_count": 102,
   "metadata": {
    "collapsed": false,
    "deletable": true,
    "editable": true
   },
   "outputs": [
    {
     "data": {
      "text/plain": [
       "song_played\n",
       "Come Together        408\n",
       "Revolution           321\n",
       "Get Back             279\n",
       "Let It Be            184\n",
       "A Day In The Life    170\n",
       "dtype: int64"
      ]
     },
     "execution_count": 102,
     "metadata": {},
     "output_type": "execute_result"
    }
   ],
   "source": [
    "#group by and find out aggregated values \n",
    "pop_music=music.groupby(\"song_played\").size()\n",
    "pop_music.sort_values(ascending=False).head()\n",
    "#type(pop_music)#series \n"
   ]
  },
  {
   "cell_type": "markdown",
   "metadata": {
    "deletable": true,
    "editable": true
   },
   "source": [
    "count instance by certain attributes "
   ]
  },
  {
   "cell_type": "code",
   "execution_count": 99,
   "metadata": {
    "collapsed": false,
    "deletable": true,
    "editable": true
   },
   "outputs": [
    {
     "data": {
      "text/html": [
       "<div>\n",
       "<style>\n",
       "    .dataframe thead tr:only-child th {\n",
       "        text-align: right;\n",
       "    }\n",
       "\n",
       "    .dataframe thead th {\n",
       "        text-align: left;\n",
       "    }\n",
       "\n",
       "    .dataframe tbody tr th {\n",
       "        vertical-align: top;\n",
       "    }\n",
       "</style>\n",
       "<table border=\"1\" class=\"dataframe\">\n",
       "  <thead>\n",
       "    <tr style=\"text-align: right;\">\n",
       "      <th></th>\n",
       "      <th>song</th>\n",
       "      <th>count</th>\n",
       "    </tr>\n",
       "  </thead>\n",
       "  <tbody>\n",
       "    <tr>\n",
       "      <th>0</th>\n",
       "      <td>Come Together</td>\n",
       "      <td>408</td>\n",
       "    </tr>\n",
       "    <tr>\n",
       "      <th>1</th>\n",
       "      <td>Revolution</td>\n",
       "      <td>321</td>\n",
       "    </tr>\n",
       "    <tr>\n",
       "      <th>2</th>\n",
       "      <td>Get Back</td>\n",
       "      <td>279</td>\n",
       "    </tr>\n",
       "    <tr>\n",
       "      <th>3</th>\n",
       "      <td>Let It Be</td>\n",
       "      <td>184</td>\n",
       "    </tr>\n",
       "    <tr>\n",
       "      <th>4</th>\n",
       "      <td>A Day In The Life</td>\n",
       "      <td>170</td>\n",
       "    </tr>\n",
       "  </tbody>\n",
       "</table>\n",
       "</div>"
      ],
      "text/plain": [
       "                song  count\n",
       "0      Come Together    408\n",
       "1         Revolution    321\n",
       "2           Get Back    279\n",
       "3          Let It Be    184\n",
       "4  A Day In The Life    170"
      ]
     },
     "execution_count": 99,
     "metadata": {},
     "output_type": "execute_result"
    }
   ],
   "source": [
    "music['song_played'].value_counts().reset_index().rename(columns={'index': 'song', 'song_played': 'count'}).head()"
   ]
  },
  {
   "cell_type": "code",
   "execution_count": 103,
   "metadata": {
    "collapsed": false,
    "deletable": true,
    "editable": true
   },
   "outputs": [
    {
     "data": {
      "text/plain": [
       "user_state\n",
       "Alabama        4\n",
       "Alaska         2\n",
       "Arizona        1\n",
       "Arkansas       2\n",
       "California    21\n",
       "Name: user_id, dtype: int64"
      ]
     },
     "execution_count": 103,
     "metadata": {},
     "output_type": "execute_result"
    }
   ],
   "source": [
    "#group by and get distinct value count \n",
    "\n",
    "def getUniqCnt(ser):\n",
    "    #return(len(np.unique(ser)));\n",
    "    return(len(ser.unique()))\n",
    "music.groupby([\"user_state\"])[\"user_id\"].apply(getUniqCnt).head()"
   ]
  },
  {
   "cell_type": "code",
   "execution_count": 104,
   "metadata": {
    "collapsed": false,
    "deletable": true,
    "editable": true
   },
   "outputs": [
    {
     "data": {
      "text/plain": [
       "user_state\n",
       "Alabama        4\n",
       "Alaska         2\n",
       "Arizona        1\n",
       "Arkansas       2\n",
       "California    21\n",
       "Name: user_id, dtype: int64"
      ]
     },
     "execution_count": 104,
     "metadata": {},
     "output_type": "execute_result"
    }
   ],
   "source": [
    "music.groupby([\"user_state\"]).user_id.apply(getUniqCnt).head()"
   ]
  },
  {
   "cell_type": "markdown",
   "metadata": {},
   "source": [
    "# unique"
   ]
  },
  {
   "cell_type": "code",
   "execution_count": 105,
   "metadata": {
    "collapsed": false,
    "deletable": true,
    "editable": true
   },
   "outputs": [
    {
     "data": {
      "text/plain": [
       "user_state\n",
       "Alabama                                       [138, 5, 148, 89]\n",
       "Alaska                                               [195, 106]\n",
       "Arizona                                                   [105]\n",
       "Arkansas                                              [124, 78]\n",
       "California    [110, 121, 97, 159, 72, 194, 112, 192, 55, 160...\n",
       "Name: user_id, dtype: object"
      ]
     },
     "execution_count": 105,
     "metadata": {},
     "output_type": "execute_result"
    }
   ],
   "source": [
    "music.groupby([\"user_state\"])[\"user_id\"].unique().head()"
   ]
  },
  {
   "cell_type": "code",
   "execution_count": 107,
   "metadata": {
    "collapsed": false
   },
   "outputs": [
    {
     "data": {
      "text/plain": [
       "user_state\n",
       "Alabama        4\n",
       "Alaska         2\n",
       "Arizona        1\n",
       "Arkansas       2\n",
       "California    21\n",
       "Name: user_id, dtype: int64"
      ]
     },
     "execution_count": 107,
     "metadata": {},
     "output_type": "execute_result"
    }
   ],
   "source": [
    "music.groupby([\"user_state\"])[\"user_id\"].nunique().head() #get unique values count "
   ]
  },
  {
   "cell_type": "markdown",
   "metadata": {
    "deletable": true,
    "editable": true
   },
   "source": [
    "## Pivot \n",
    "pivot_table"
   ]
  },
  {
   "cell_type": "code",
   "execution_count": 65,
   "metadata": {
    "collapsed": false,
    "deletable": true,
    "editable": true
   },
   "outputs": [
    {
     "data": {
      "text/html": [
       "<div>\n",
       "<style>\n",
       "    .dataframe thead tr:only-child th {\n",
       "        text-align: right;\n",
       "    }\n",
       "\n",
       "    .dataframe thead th {\n",
       "        text-align: left;\n",
       "    }\n",
       "\n",
       "    .dataframe tbody tr th {\n",
       "        vertical-align: top;\n",
       "    }\n",
       "</style>\n",
       "<table border=\"1\" class=\"dataframe\">\n",
       "  <thead>\n",
       "    <tr style=\"text-align: right;\">\n",
       "      <th>song_played</th>\n",
       "      <th>A Day In The Life</th>\n",
       "      <th>A Hard Day's Night</th>\n",
       "      <th>A Saturday Club Xmas/Crimble Medley</th>\n",
       "      <th>ANYTIME AT ALL</th>\n",
       "      <th>Across The Universe</th>\n",
       "      <th>All My Loving</th>\n",
       "      <th>All You Need Is Love</th>\n",
       "      <th>And Your Bird Can Sing</th>\n",
       "      <th>BAD BOY</th>\n",
       "      <th>BALLAD OF JOHN AND YOKO</th>\n",
       "      <th>...</th>\n",
       "      <th>We Can Work It Out</th>\n",
       "      <th>When I'm 64</th>\n",
       "      <th>While My Guitar Gently Weeps</th>\n",
       "      <th>Wild Honey Pie</th>\n",
       "      <th>With a Little Help From My Friends</th>\n",
       "      <th>YOUR MOTHER SHOULD KNOW</th>\n",
       "      <th>Yellow Submarine</th>\n",
       "      <th>Yesterday</th>\n",
       "      <th>You Never Give Me Your Money</th>\n",
       "      <th>You're Going To Lose That Girl</th>\n",
       "    </tr>\n",
       "    <tr>\n",
       "      <th>user_state</th>\n",
       "      <th></th>\n",
       "      <th></th>\n",
       "      <th></th>\n",
       "      <th></th>\n",
       "      <th></th>\n",
       "      <th></th>\n",
       "      <th></th>\n",
       "      <th></th>\n",
       "      <th></th>\n",
       "      <th></th>\n",
       "      <th></th>\n",
       "      <th></th>\n",
       "      <th></th>\n",
       "      <th></th>\n",
       "      <th></th>\n",
       "      <th></th>\n",
       "      <th></th>\n",
       "      <th></th>\n",
       "      <th></th>\n",
       "      <th></th>\n",
       "      <th></th>\n",
       "    </tr>\n",
       "  </thead>\n",
       "  <tbody>\n",
       "    <tr>\n",
       "      <th>Alabama</th>\n",
       "      <td>4</td>\n",
       "      <td>2</td>\n",
       "      <td>0</td>\n",
       "      <td>0</td>\n",
       "      <td>0</td>\n",
       "      <td>0</td>\n",
       "      <td>0</td>\n",
       "      <td>0</td>\n",
       "      <td>0</td>\n",
       "      <td>0</td>\n",
       "      <td>...</td>\n",
       "      <td>2</td>\n",
       "      <td>0</td>\n",
       "      <td>5</td>\n",
       "      <td>0</td>\n",
       "      <td>1</td>\n",
       "      <td>0</td>\n",
       "      <td>0</td>\n",
       "      <td>2</td>\n",
       "      <td>0</td>\n",
       "      <td>0</td>\n",
       "    </tr>\n",
       "    <tr>\n",
       "      <th>Alaska</th>\n",
       "      <td>2</td>\n",
       "      <td>1</td>\n",
       "      <td>0</td>\n",
       "      <td>0</td>\n",
       "      <td>0</td>\n",
       "      <td>0</td>\n",
       "      <td>1</td>\n",
       "      <td>0</td>\n",
       "      <td>0</td>\n",
       "      <td>0</td>\n",
       "      <td>...</td>\n",
       "      <td>1</td>\n",
       "      <td>0</td>\n",
       "      <td>4</td>\n",
       "      <td>0</td>\n",
       "      <td>1</td>\n",
       "      <td>0</td>\n",
       "      <td>0</td>\n",
       "      <td>2</td>\n",
       "      <td>0</td>\n",
       "      <td>0</td>\n",
       "    </tr>\n",
       "    <tr>\n",
       "      <th>Arizona</th>\n",
       "      <td>1</td>\n",
       "      <td>0</td>\n",
       "      <td>0</td>\n",
       "      <td>0</td>\n",
       "      <td>0</td>\n",
       "      <td>0</td>\n",
       "      <td>0</td>\n",
       "      <td>0</td>\n",
       "      <td>0</td>\n",
       "      <td>0</td>\n",
       "      <td>...</td>\n",
       "      <td>1</td>\n",
       "      <td>0</td>\n",
       "      <td>0</td>\n",
       "      <td>0</td>\n",
       "      <td>1</td>\n",
       "      <td>0</td>\n",
       "      <td>0</td>\n",
       "      <td>1</td>\n",
       "      <td>1</td>\n",
       "      <td>0</td>\n",
       "    </tr>\n",
       "    <tr>\n",
       "      <th>Arkansas</th>\n",
       "      <td>0</td>\n",
       "      <td>0</td>\n",
       "      <td>0</td>\n",
       "      <td>0</td>\n",
       "      <td>0</td>\n",
       "      <td>0</td>\n",
       "      <td>0</td>\n",
       "      <td>1</td>\n",
       "      <td>0</td>\n",
       "      <td>0</td>\n",
       "      <td>...</td>\n",
       "      <td>2</td>\n",
       "      <td>0</td>\n",
       "      <td>1</td>\n",
       "      <td>0</td>\n",
       "      <td>0</td>\n",
       "      <td>0</td>\n",
       "      <td>0</td>\n",
       "      <td>1</td>\n",
       "      <td>0</td>\n",
       "      <td>0</td>\n",
       "    </tr>\n",
       "    <tr>\n",
       "      <th>California</th>\n",
       "      <td>22</td>\n",
       "      <td>3</td>\n",
       "      <td>0</td>\n",
       "      <td>0</td>\n",
       "      <td>1</td>\n",
       "      <td>1</td>\n",
       "      <td>3</td>\n",
       "      <td>1</td>\n",
       "      <td>1</td>\n",
       "      <td>2</td>\n",
       "      <td>...</td>\n",
       "      <td>13</td>\n",
       "      <td>0</td>\n",
       "      <td>12</td>\n",
       "      <td>5</td>\n",
       "      <td>1</td>\n",
       "      <td>0</td>\n",
       "      <td>2</td>\n",
       "      <td>6</td>\n",
       "      <td>1</td>\n",
       "      <td>0</td>\n",
       "    </tr>\n",
       "  </tbody>\n",
       "</table>\n",
       "<p>5 rows × 100 columns</p>\n",
       "</div>"
      ],
      "text/plain": [
       "song_played  A Day In The Life  A Hard Day's Night  \\\n",
       "user_state                                           \n",
       "Alabama                      4                   2   \n",
       "Alaska                       2                   1   \n",
       "Arizona                      1                   0   \n",
       "Arkansas                     0                   0   \n",
       "California                  22                   3   \n",
       "\n",
       "song_played  A Saturday Club Xmas/Crimble Medley  ANYTIME AT ALL  \\\n",
       "user_state                                                         \n",
       "Alabama                                        0               0   \n",
       "Alaska                                         0               0   \n",
       "Arizona                                        0               0   \n",
       "Arkansas                                       0               0   \n",
       "California                                     0               0   \n",
       "\n",
       "song_played  Across The Universe  All My Loving  All You Need Is Love  \\\n",
       "user_state                                                              \n",
       "Alabama                        0              0                     0   \n",
       "Alaska                         0              0                     1   \n",
       "Arizona                        0              0                     0   \n",
       "Arkansas                       0              0                     0   \n",
       "California                     1              1                     3   \n",
       "\n",
       "song_played  And Your Bird Can Sing  BAD BOY  BALLAD OF JOHN AND YOKO  \\\n",
       "user_state                                                              \n",
       "Alabama                           0        0                        0   \n",
       "Alaska                            0        0                        0   \n",
       "Arizona                           0        0                        0   \n",
       "Arkansas                          1        0                        0   \n",
       "California                        1        1                        2   \n",
       "\n",
       "song_played               ...                We Can Work It Out  When I'm 64  \\\n",
       "user_state                ...                                                  \n",
       "Alabama                   ...                                 2            0   \n",
       "Alaska                    ...                                 1            0   \n",
       "Arizona                   ...                                 1            0   \n",
       "Arkansas                  ...                                 2            0   \n",
       "California                ...                                13            0   \n",
       "\n",
       "song_played  While My Guitar Gently Weeps  Wild Honey Pie  \\\n",
       "user_state                                                  \n",
       "Alabama                                 5               0   \n",
       "Alaska                                  4               0   \n",
       "Arizona                                 0               0   \n",
       "Arkansas                                1               0   \n",
       "California                             12               5   \n",
       "\n",
       "song_played  With a Little Help From My Friends  YOUR MOTHER SHOULD KNOW  \\\n",
       "user_state                                                                 \n",
       "Alabama                                       1                        0   \n",
       "Alaska                                        1                        0   \n",
       "Arizona                                       1                        0   \n",
       "Arkansas                                      0                        0   \n",
       "California                                    1                        0   \n",
       "\n",
       "song_played  Yellow Submarine  Yesterday  You Never Give Me Your Money  \\\n",
       "user_state                                                               \n",
       "Alabama                     0          2                             0   \n",
       "Alaska                      0          2                             0   \n",
       "Arizona                     0          1                             1   \n",
       "Arkansas                    0          1                             0   \n",
       "California                  2          6                             1   \n",
       "\n",
       "song_played  You're Going To Lose That Girl  \n",
       "user_state                                   \n",
       "Alabama                                   0  \n",
       "Alaska                                    0  \n",
       "Arizona                                   0  \n",
       "Arkansas                                  0  \n",
       "California                                0  \n",
       "\n",
       "[5 rows x 100 columns]"
      ]
     },
     "execution_count": 65,
     "metadata": {},
     "output_type": "execute_result"
    }
   ],
   "source": [
    "music.pivot_table(index=[\"user_state\"],columns=\"song_played\",values=\"user_id\",aggfunc=\"mean\") \n",
    "music.pivot_table(index=[\"user_state\"],columns=\"song_played\",values=\"user_id\",aggfunc=\"max\") \n",
    "music_pt=music.pivot_table(index=[\"user_state\"],columns=\"song_played\",values=\"user_id\",aggfunc=\"count\",fill_value=0) \n",
    "type(music_pt)#data frame \n",
    "\n",
    "music_pt.head()"
   ]
  },
  {
   "cell_type": "code",
   "execution_count": 66,
   "metadata": {
    "collapsed": false,
    "deletable": true,
    "editable": true
   },
   "outputs": [
    {
     "data": {
      "text/plain": [
       "user_state\n",
       "Alabama           104\n",
       "Alaska             58\n",
       "Arizona            22\n",
       "Arkansas           34\n",
       "California        425\n",
       "Colorado           54\n",
       "Connecticut        16\n",
       "Florida           180\n",
       "Georgia           135\n",
       "Idaho              26\n",
       "Illinois          149\n",
       "Indiana            55\n",
       "Iowa               23\n",
       "Kansas              8\n",
       "Kentucky           78\n",
       "Louisiana         105\n",
       "Maryland          112\n",
       "Massachusetts      91\n",
       "Michigan           80\n",
       "Minnesota          42\n",
       "Mississippi        85\n",
       "Missouri          127\n",
       "Nebraska           36\n",
       "New Jersey        117\n",
       "New Mexico         17\n",
       "New York          469\n",
       "North Carolina    154\n",
       "North Dakota       26\n",
       "Ohio              209\n",
       "Oklahoma           49\n",
       "Oregon             62\n",
       "Pennsylvania      179\n",
       "Rhode Island       27\n",
       "South Carolina     85\n",
       "Tennessee         102\n",
       "Texas             230\n",
       "Utah               38\n",
       "Virginia           17\n",
       "Washington         41\n",
       "West Virginia      38\n",
       "Wisconsin          95\n",
       "dtype: int64"
      ]
     },
     "execution_count": 66,
     "metadata": {},
     "output_type": "execute_result"
    }
   ],
   "source": [
    "#sum up values by rows and columns in pivot result (which is also a data frame)\n",
    "music_pt.sum(axis=1)\n",
    "#music_pt.sum(axis=0)\n"
   ]
  },
  {
   "cell_type": "markdown",
   "metadata": {
    "deletable": true,
    "editable": true
   },
   "source": [
    "## create a matrix, works similar as pivot "
   ]
  },
  {
   "cell_type": "code",
   "execution_count": 67,
   "metadata": {
    "collapsed": false,
    "deletable": true,
    "editable": true
   },
   "outputs": [
    {
     "data": {
      "text/plain": [
       "<pandas.core.groupby.DataFrameGroupBy object at 0x000001E281FD65C0>"
      ]
     },
     "execution_count": 67,
     "metadata": {},
     "output_type": "execute_result"
    }
   ],
   "source": [
    "music.head()\n",
    "len(np.unique(music['song_played']))#100 unique music\n",
    "len(np.unique(music['user_state']))#41 unique music\n",
    "music.groupby(\"user_state\")\n",
    "##?? not yet implemented "
   ]
  },
  {
   "cell_type": "code",
   "execution_count": 108,
   "metadata": {
    "collapsed": false,
    "deletable": true,
    "editable": true
   },
   "outputs": [
    {
     "data": {
      "text/plain": [
       "song_played\n",
       "Come Together        408\n",
       "Revolution           321\n",
       "Get Back             279\n",
       "Let It Be            184\n",
       "A Day In The Life    170\n",
       "dtype: int64"
      ]
     },
     "execution_count": 108,
     "metadata": {},
     "output_type": "execute_result"
    }
   ],
   "source": [
    "music_pt.sum(axis=1)#sum up value for rows, calculate how many music played for each state \n",
    "music_pt.sum(axis=0).sort_values(ascending=False).head()#sum up value for columns, calculate how many music played of each song   "
   ]
  },
  {
   "cell_type": "markdown",
   "metadata": {
    "deletable": true,
    "editable": true
   },
   "source": [
    "## Sort values"
   ]
  },
  {
   "cell_type": "code",
   "execution_count": 109,
   "metadata": {
    "collapsed": false,
    "deletable": true,
    "editable": true
   },
   "outputs": [
    {
     "data": {
      "text/html": [
       "<div>\n",
       "<style>\n",
       "    .dataframe thead tr:only-child th {\n",
       "        text-align: right;\n",
       "    }\n",
       "\n",
       "    .dataframe thead th {\n",
       "        text-align: left;\n",
       "    }\n",
       "\n",
       "    .dataframe tbody tr th {\n",
       "        vertical-align: top;\n",
       "    }\n",
       "</style>\n",
       "<table border=\"1\" class=\"dataframe\">\n",
       "  <thead>\n",
       "    <tr style=\"text-align: right;\">\n",
       "      <th></th>\n",
       "      <th>id</th>\n",
       "      <th>song_played</th>\n",
       "      <th>time_played</th>\n",
       "      <th>user_id</th>\n",
       "      <th>user_sign_up_date</th>\n",
       "      <th>user_state</th>\n",
       "    </tr>\n",
       "  </thead>\n",
       "  <tbody>\n",
       "    <tr>\n",
       "      <th>893</th>\n",
       "      <td>ELBEIRCHCJ</td>\n",
       "      <td>Lucy In The Sky With Diamonds</td>\n",
       "      <td>2015-06-28 23:46:06</td>\n",
       "      <td>96</td>\n",
       "      <td>2015-05-12</td>\n",
       "      <td>South Carolina</td>\n",
       "    </tr>\n",
       "    <tr>\n",
       "      <th>348</th>\n",
       "      <td>YMSDLTRBTV</td>\n",
       "      <td>Come Together</td>\n",
       "      <td>2015-06-28 23:26:38</td>\n",
       "      <td>158</td>\n",
       "      <td>2015-05-19</td>\n",
       "      <td>North Carolina</td>\n",
       "    </tr>\n",
       "    <tr>\n",
       "      <th>3793</th>\n",
       "      <td>PCORCWOBZA</td>\n",
       "      <td>We Can Work It Out</td>\n",
       "      <td>2015-06-28 23:12:51</td>\n",
       "      <td>137</td>\n",
       "      <td>2015-05-17</td>\n",
       "      <td>Wisconsin</td>\n",
       "    </tr>\n",
       "    <tr>\n",
       "      <th>2842</th>\n",
       "      <td>IFQGQGOAZN</td>\n",
       "      <td>Paperback Writer</td>\n",
       "      <td>2015-06-28 22:59:27</td>\n",
       "      <td>189</td>\n",
       "      <td>2015-05-20</td>\n",
       "      <td>Florida</td>\n",
       "    </tr>\n",
       "    <tr>\n",
       "      <th>911</th>\n",
       "      <td>NSEZTDAJCB</td>\n",
       "      <td>Revolution</td>\n",
       "      <td>2015-06-28 22:58:23</td>\n",
       "      <td>195</td>\n",
       "      <td>2015-05-20</td>\n",
       "      <td>Alaska</td>\n",
       "    </tr>\n",
       "  </tbody>\n",
       "</table>\n",
       "</div>"
      ],
      "text/plain": [
       "              id                    song_played          time_played  user_id  \\\n",
       "893   ELBEIRCHCJ  Lucy In The Sky With Diamonds  2015-06-28 23:46:06       96   \n",
       "348   YMSDLTRBTV                  Come Together  2015-06-28 23:26:38      158   \n",
       "3793  PCORCWOBZA             We Can Work It Out  2015-06-28 23:12:51      137   \n",
       "2842  IFQGQGOAZN               Paperback Writer  2015-06-28 22:59:27      189   \n",
       "911   NSEZTDAJCB                     Revolution  2015-06-28 22:58:23      195   \n",
       "\n",
       "     user_sign_up_date      user_state  \n",
       "893         2015-05-12  South Carolina  \n",
       "348         2015-05-19  North Carolina  \n",
       "3793        2015-05-17       Wisconsin  \n",
       "2842        2015-05-20         Florida  \n",
       "911         2015-05-20          Alaska  "
      ]
     },
     "execution_count": 109,
     "metadata": {},
     "output_type": "execute_result"
    }
   ],
   "source": [
    "music.sort_values(by=\"time_played\",ascending=False).head()"
   ]
  },
  {
   "cell_type": "markdown",
   "metadata": {
    "deletable": true,
    "editable": true
   },
   "source": [
    "# get max and get min"
   ]
  },
  {
   "cell_type": "code",
   "execution_count": 70,
   "metadata": {
    "collapsed": false,
    "deletable": true,
    "editable": true
   },
   "outputs": [
    {
     "data": {
      "text/plain": [
       "array([[0, 1, 2],\n",
       "       [3, 4, 5]])"
      ]
     },
     "execution_count": 70,
     "metadata": {},
     "output_type": "execute_result"
    }
   ],
   "source": [
    "a = np.arange(6).reshape(2,3)\n",
    "a"
   ]
  },
  {
   "cell_type": "code",
   "execution_count": 71,
   "metadata": {
    "collapsed": false,
    "deletable": true,
    "editable": true
   },
   "outputs": [
    {
     "data": {
      "text/plain": [
       "array([1, 1, 1], dtype=int64)"
      ]
     },
     "execution_count": 71,
     "metadata": {},
     "output_type": "execute_result"
    }
   ],
   "source": [
    "#Returns the indices of the maximum values along an axis.\n",
    "np.argmax(a)\n",
    "np.argmax(a, axis=0) #array([1, 1, 1], dtype=int64)\n",
    "#np.argmin(a, axis=0) #array([0, 0, 0], dtype=int64)\n"
   ]
  },
  {
   "cell_type": "markdown",
   "metadata": {
    "deletable": true,
    "editable": true
   },
   "source": [
    "# Range "
   ]
  },
  {
   "cell_type": "code",
   "execution_count": 72,
   "metadata": {
    "collapsed": false,
    "deletable": true,
    "editable": true
   },
   "outputs": [
    {
     "data": {
      "text/plain": [
       "range(1, 10)"
      ]
     },
     "execution_count": 72,
     "metadata": {},
     "output_type": "execute_result"
    }
   ],
   "source": [
    "range(10)\n",
    "range(1,10)"
   ]
  },
  {
   "cell_type": "markdown",
   "metadata": {
    "deletable": true,
    "editable": true
   },
   "source": [
    "# Sample"
   ]
  },
  {
   "cell_type": "markdown",
   "metadata": {
    "deletable": true,
    "editable": true
   },
   "source": [
    "## sample records from list"
   ]
  },
  {
   "cell_type": "code",
   "execution_count": 73,
   "metadata": {
    "collapsed": false,
    "deletable": true,
    "editable": true
   },
   "outputs": [
    {
     "data": {
      "text/plain": [
       "[3, 9, 7, 0, 8]"
      ]
     },
     "execution_count": 73,
     "metadata": {},
     "output_type": "execute_result"
    }
   ],
   "source": [
    "import random\n",
    "\n",
    "list_sample=random.sample(range(len(list)), 5)\n",
    "list_sample"
   ]
  },
  {
   "cell_type": "markdown",
   "metadata": {
    "deletable": true,
    "editable": true
   },
   "source": [
    "# Datetime"
   ]
  },
  {
   "cell_type": "markdown",
   "metadata": {
    "deletable": true,
    "editable": true
   },
   "source": [
    "## get month from datetime "
   ]
  },
  {
   "cell_type": "code",
   "execution_count": 74,
   "metadata": {
    "collapsed": true,
    "deletable": true,
    "editable": true
   },
   "outputs": [],
   "source": [
    "import datetime\n",
    "from datetime import timedelta  "
   ]
  },
  {
   "cell_type": "code",
   "execution_count": 75,
   "metadata": {
    "collapsed": false,
    "deletable": true,
    "editable": true
   },
   "outputs": [
    {
     "name": "stdout",
     "output_type": "stream",
     "text": [
      "2015-09-10 00:00:00\n",
      "2015-09-11 00:00:00\n"
     ]
    }
   ],
   "source": [
    "#define a datetime \n",
    "d = datetime.datetime(2015, 9, 10) \n",
    "d_next=d+ timedelta(days=1)\n",
    "print(d)\n",
    "print(d_next)"
   ]
  },
  {
   "cell_type": "code",
   "execution_count": 76,
   "metadata": {
    "collapsed": false,
    "deletable": true,
    "editable": true
   },
   "outputs": [
    {
     "data": {
      "text/html": [
       "<div>\n",
       "<style>\n",
       "    .dataframe thead tr:only-child th {\n",
       "        text-align: right;\n",
       "    }\n",
       "\n",
       "    .dataframe thead th {\n",
       "        text-align: left;\n",
       "    }\n",
       "\n",
       "    .dataframe tbody tr th {\n",
       "        vertical-align: top;\n",
       "    }\n",
       "</style>\n",
       "<table border=\"1\" class=\"dataframe\">\n",
       "  <thead>\n",
       "    <tr style=\"text-align: right;\">\n",
       "      <th></th>\n",
       "      <th>credit_card</th>\n",
       "      <th>date</th>\n",
       "      <th>transaction_dollar_amount</th>\n",
       "      <th>Long</th>\n",
       "      <th>Lat</th>\n",
       "    </tr>\n",
       "  </thead>\n",
       "  <tbody>\n",
       "    <tr>\n",
       "      <th>0</th>\n",
       "      <td>1003715054175576</td>\n",
       "      <td>2015-09-11 00:32:40</td>\n",
       "      <td>43.78</td>\n",
       "      <td>-80.174132</td>\n",
       "      <td>40.267370</td>\n",
       "    </tr>\n",
       "    <tr>\n",
       "      <th>1</th>\n",
       "      <td>1003715054175576</td>\n",
       "      <td>2015-10-24 22:23:08</td>\n",
       "      <td>103.15</td>\n",
       "      <td>-80.194240</td>\n",
       "      <td>40.180114</td>\n",
       "    </tr>\n",
       "    <tr>\n",
       "      <th>2</th>\n",
       "      <td>1003715054175576</td>\n",
       "      <td>2015-10-26 18:19:36</td>\n",
       "      <td>48.55</td>\n",
       "      <td>-80.211033</td>\n",
       "      <td>40.313004</td>\n",
       "    </tr>\n",
       "    <tr>\n",
       "      <th>3</th>\n",
       "      <td>1003715054175576</td>\n",
       "      <td>2015-10-22 19:41:10</td>\n",
       "      <td>136.18</td>\n",
       "      <td>-80.174138</td>\n",
       "      <td>40.290895</td>\n",
       "    </tr>\n",
       "    <tr>\n",
       "      <th>4</th>\n",
       "      <td>1003715054175576</td>\n",
       "      <td>2015-10-26 20:08:22</td>\n",
       "      <td>71.82</td>\n",
       "      <td>-80.238720</td>\n",
       "      <td>40.166719</td>\n",
       "    </tr>\n",
       "  </tbody>\n",
       "</table>\n",
       "</div>"
      ],
      "text/plain": [
       "        credit_card                 date  transaction_dollar_amount  \\\n",
       "0  1003715054175576  2015-09-11 00:32:40                      43.78   \n",
       "1  1003715054175576  2015-10-24 22:23:08                     103.15   \n",
       "2  1003715054175576  2015-10-26 18:19:36                      48.55   \n",
       "3  1003715054175576  2015-10-22 19:41:10                     136.18   \n",
       "4  1003715054175576  2015-10-26 20:08:22                      71.82   \n",
       "\n",
       "        Long        Lat  \n",
       "0 -80.174132  40.267370  \n",
       "1 -80.194240  40.180114  \n",
       "2 -80.211033  40.313004  \n",
       "3 -80.174138  40.290895  \n",
       "4 -80.238720  40.166719  "
      ]
     },
     "execution_count": 76,
     "metadata": {},
     "output_type": "execute_result"
    }
   ],
   "source": [
    "txnfile=\"../takehomechallenge/data/credit_card/transactions.csv\"\n",
    "txn=pd.read_csv(txnfile,parse_dates=True)\n",
    "txn.head()"
   ]
  },
  {
   "cell_type": "code",
   "execution_count": 77,
   "metadata": {
    "collapsed": true,
    "deletable": true,
    "editable": true
   },
   "outputs": [],
   "source": [
    "#format a column as datetime, using pandas package \n",
    "txn['date_date'] = pd.to_datetime(txn.date)"
   ]
  },
  {
   "cell_type": "code",
   "execution_count": 110,
   "metadata": {
    "collapsed": false,
    "deletable": true,
    "editable": true
   },
   "outputs": [
    {
     "data": {
      "text/html": [
       "<div>\n",
       "<style>\n",
       "    .dataframe thead tr:only-child th {\n",
       "        text-align: right;\n",
       "    }\n",
       "\n",
       "    .dataframe thead th {\n",
       "        text-align: left;\n",
       "    }\n",
       "\n",
       "    .dataframe tbody tr th {\n",
       "        vertical-align: top;\n",
       "    }\n",
       "</style>\n",
       "<table border=\"1\" class=\"dataframe\">\n",
       "  <thead>\n",
       "    <tr style=\"text-align: right;\">\n",
       "      <th></th>\n",
       "      <th>credit_card</th>\n",
       "      <th>date</th>\n",
       "      <th>transaction_dollar_amount</th>\n",
       "      <th>Long</th>\n",
       "      <th>Lat</th>\n",
       "      <th>date_date</th>\n",
       "      <th>month</th>\n",
       "    </tr>\n",
       "  </thead>\n",
       "  <tbody>\n",
       "    <tr>\n",
       "      <th>0</th>\n",
       "      <td>1003715054175576</td>\n",
       "      <td>2015-09-11 00:32:40</td>\n",
       "      <td>43.78</td>\n",
       "      <td>-80.174132</td>\n",
       "      <td>40.267370</td>\n",
       "      <td>2015-09-11 00:32:40</td>\n",
       "      <td>2015-9</td>\n",
       "    </tr>\n",
       "    <tr>\n",
       "      <th>1</th>\n",
       "      <td>1003715054175576</td>\n",
       "      <td>2015-10-24 22:23:08</td>\n",
       "      <td>103.15</td>\n",
       "      <td>-80.194240</td>\n",
       "      <td>40.180114</td>\n",
       "      <td>2015-10-24 22:23:08</td>\n",
       "      <td>2015-10</td>\n",
       "    </tr>\n",
       "    <tr>\n",
       "      <th>2</th>\n",
       "      <td>1003715054175576</td>\n",
       "      <td>2015-10-26 18:19:36</td>\n",
       "      <td>48.55</td>\n",
       "      <td>-80.211033</td>\n",
       "      <td>40.313004</td>\n",
       "      <td>2015-10-26 18:19:36</td>\n",
       "      <td>2015-10</td>\n",
       "    </tr>\n",
       "    <tr>\n",
       "      <th>3</th>\n",
       "      <td>1003715054175576</td>\n",
       "      <td>2015-10-22 19:41:10</td>\n",
       "      <td>136.18</td>\n",
       "      <td>-80.174138</td>\n",
       "      <td>40.290895</td>\n",
       "      <td>2015-10-22 19:41:10</td>\n",
       "      <td>2015-10</td>\n",
       "    </tr>\n",
       "    <tr>\n",
       "      <th>4</th>\n",
       "      <td>1003715054175576</td>\n",
       "      <td>2015-10-26 20:08:22</td>\n",
       "      <td>71.82</td>\n",
       "      <td>-80.238720</td>\n",
       "      <td>40.166719</td>\n",
       "      <td>2015-10-26 20:08:22</td>\n",
       "      <td>2015-10</td>\n",
       "    </tr>\n",
       "  </tbody>\n",
       "</table>\n",
       "</div>"
      ],
      "text/plain": [
       "        credit_card                 date  transaction_dollar_amount  \\\n",
       "0  1003715054175576  2015-09-11 00:32:40                      43.78   \n",
       "1  1003715054175576  2015-10-24 22:23:08                     103.15   \n",
       "2  1003715054175576  2015-10-26 18:19:36                      48.55   \n",
       "3  1003715054175576  2015-10-22 19:41:10                     136.18   \n",
       "4  1003715054175576  2015-10-26 20:08:22                      71.82   \n",
       "\n",
       "        Long        Lat           date_date    month  \n",
       "0 -80.174132  40.267370 2015-09-11 00:32:40   2015-9  \n",
       "1 -80.194240  40.180114 2015-10-24 22:23:08  2015-10  \n",
       "2 -80.211033  40.313004 2015-10-26 18:19:36  2015-10  \n",
       "3 -80.174138  40.290895 2015-10-22 19:41:10  2015-10  \n",
       "4 -80.238720  40.166719 2015-10-26 20:08:22  2015-10  "
      ]
     },
     "execution_count": 110,
     "metadata": {},
     "output_type": "execute_result"
    }
   ],
   "source": [
    "txn.loc[txn['date_date']>d,:].head()"
   ]
  },
  {
   "cell_type": "code",
   "execution_count": 79,
   "metadata": {
    "collapsed": false,
    "deletable": true,
    "editable": true
   },
   "outputs": [],
   "source": [
    "def getMonth(date_str):\n",
    "    date=datetime.datetime.strptime(date_str, \"%Y-%m-%d %H:%M:%S\")\n",
    "    return(str(date.year)+'-'+str(date.month))"
   ]
  },
  {
   "cell_type": "code",
   "execution_count": 80,
   "metadata": {
    "collapsed": true,
    "deletable": true,
    "editable": true
   },
   "outputs": [],
   "source": [
    "def toDateTime(str):\n",
    "    return(datetime.datetime.strptime(str, \"%Y-%m-%d %H:%M:%S\"))\n",
    "#sample usage\n",
    "#data2[\"date\"]=data2[\"date\"].apply(toDateTime)"
   ]
  },
  {
   "cell_type": "code",
   "execution_count": 81,
   "metadata": {
    "collapsed": false,
    "deletable": true,
    "editable": true
   },
   "outputs": [],
   "source": [
    "txn['month']=txn['date'].apply(getMonth)"
   ]
  },
  {
   "cell_type": "code",
   "execution_count": 173,
   "metadata": {
    "collapsed": false
   },
   "outputs": [],
   "source": [
    "#calculate rolling 10 days amount for each credit card\n",
    "def getRolling10Days(date_i,cc,df):\n",
    "    amt=df.loc[(df.date_date<date_i) & (df.date_date>date_i-timedelta(days=10)) &(df.credit_card==cc)]['transaction_dollar_amount'].sum()\n",
    "    return amt"
   ]
  },
  {
   "cell_type": "code",
   "execution_count": 180,
   "metadata": {
    "collapsed": false
   },
   "outputs": [
    {
     "data": {
      "text/plain": [
       "credit_card\n",
       "1003715054175576    261\n",
       "1013870087888817    341\n",
       "1023820165155391    398\n",
       "dtype: int64"
      ]
     },
     "execution_count": 180,
     "metadata": {},
     "output_type": "execute_result"
    }
   ],
   "source": [
    "txn_sample=txn.head(1000)\n",
    "txn_sample.groupby('credit_card').size()"
   ]
  },
  {
   "cell_type": "code",
   "execution_count": 182,
   "metadata": {
    "collapsed": false
   },
   "outputs": [
    {
     "name": "stderr",
     "output_type": "stream",
     "text": [
      "C:\\Users\\shanchen\\AppData\\Local\\Enthought\\Canopy\\edm\\envs\\User\\lib\\site-packages\\ipykernel\\__main__.py:2: SettingWithCopyWarning: \n",
      "A value is trying to be set on a copy of a slice from a DataFrame.\n",
      "Try using .loc[row_indexer,col_indexer] = value instead\n",
      "\n",
      "See the caveats in the documentation: http://pandas.pydata.org/pandas-docs/stable/indexing.html#indexing-view-versus-copy\n",
      "  from ipykernel import kernelapp as app\n"
     ]
    }
   ],
   "source": [
    "result=txn_sample['date_date'].apply(getRolling10Days,cc=txn_sample['credit_card'],df=txn_sample) \n",
    "txn_sample['rolling_total']=result"
   ]
  },
  {
   "cell_type": "code",
   "execution_count": 189,
   "metadata": {
    "collapsed": false
   },
   "outputs": [
    {
     "data": {
      "text/html": [
       "<div>\n",
       "<style>\n",
       "    .dataframe thead tr:only-child th {\n",
       "        text-align: right;\n",
       "    }\n",
       "\n",
       "    .dataframe thead th {\n",
       "        text-align: left;\n",
       "    }\n",
       "\n",
       "    .dataframe tbody tr th {\n",
       "        vertical-align: top;\n",
       "    }\n",
       "</style>\n",
       "<table border=\"1\" class=\"dataframe\">\n",
       "  <thead>\n",
       "    <tr style=\"text-align: right;\">\n",
       "      <th></th>\n",
       "      <th>credit_card</th>\n",
       "      <th>date</th>\n",
       "      <th>transaction_dollar_amount</th>\n",
       "      <th>Long</th>\n",
       "      <th>Lat</th>\n",
       "      <th>date_date</th>\n",
       "      <th>month</th>\n",
       "      <th>rolling_total</th>\n",
       "    </tr>\n",
       "  </thead>\n",
       "  <tbody>\n",
       "    <tr>\n",
       "      <th>506</th>\n",
       "      <td>1013870087888817</td>\n",
       "      <td>2015-07-31 18:24:45</td>\n",
       "      <td>52.44</td>\n",
       "      <td>-72.178895</td>\n",
       "      <td>43.195511</td>\n",
       "      <td>2015-07-31 18:24:45</td>\n",
       "      <td>2015-7</td>\n",
       "      <td>411.55</td>\n",
       "    </tr>\n",
       "    <tr>\n",
       "      <th>392</th>\n",
       "      <td>1013870087888817</td>\n",
       "      <td>2015-07-31 18:24:47</td>\n",
       "      <td>73.89</td>\n",
       "      <td>-72.124877</td>\n",
       "      <td>43.214593</td>\n",
       "      <td>2015-07-31 18:24:47</td>\n",
       "      <td>2015-7</td>\n",
       "      <td>463.99</td>\n",
       "    </tr>\n",
       "    <tr>\n",
       "      <th>389</th>\n",
       "      <td>1013870087888817</td>\n",
       "      <td>2015-07-31 19:31:11</td>\n",
       "      <td>73.72</td>\n",
       "      <td>-72.039532</td>\n",
       "      <td>43.207551</td>\n",
       "      <td>2015-07-31 19:31:11</td>\n",
       "      <td>2015-7</td>\n",
       "      <td>537.88</td>\n",
       "    </tr>\n",
       "    <tr>\n",
       "      <th>579</th>\n",
       "      <td>1013870087888817</td>\n",
       "      <td>2015-07-31 21:15:08</td>\n",
       "      <td>81.38</td>\n",
       "      <td>-72.057612</td>\n",
       "      <td>43.176706</td>\n",
       "      <td>2015-07-31 21:15:08</td>\n",
       "      <td>2015-7</td>\n",
       "      <td>955.62</td>\n",
       "    </tr>\n",
       "    <tr>\n",
       "      <th>556</th>\n",
       "      <td>1013870087888817</td>\n",
       "      <td>2015-08-01 18:11:34</td>\n",
       "      <td>105.54</td>\n",
       "      <td>-72.046728</td>\n",
       "      <td>43.220051</td>\n",
       "      <td>2015-08-01 18:11:34</td>\n",
       "      <td>2015-8</td>\n",
       "      <td>1755.90</td>\n",
       "    </tr>\n",
       "    <tr>\n",
       "      <th>358</th>\n",
       "      <td>1013870087888817</td>\n",
       "      <td>2015-08-01 18:18:23</td>\n",
       "      <td>118.86</td>\n",
       "      <td>-72.027981</td>\n",
       "      <td>43.153299</td>\n",
       "      <td>2015-08-01 18:18:23</td>\n",
       "      <td>2015-8</td>\n",
       "      <td>1861.44</td>\n",
       "    </tr>\n",
       "    <tr>\n",
       "      <th>501</th>\n",
       "      <td>1013870087888817</td>\n",
       "      <td>2015-08-01 19:41:59</td>\n",
       "      <td>114.80</td>\n",
       "      <td>-72.035413</td>\n",
       "      <td>43.175898</td>\n",
       "      <td>2015-08-01 19:41:59</td>\n",
       "      <td>2015-8</td>\n",
       "      <td>2138.92</td>\n",
       "    </tr>\n",
       "    <tr>\n",
       "      <th>366</th>\n",
       "      <td>1013870087888817</td>\n",
       "      <td>2015-08-01 20:47:42</td>\n",
       "      <td>152.65</td>\n",
       "      <td>-72.081872</td>\n",
       "      <td>43.097129</td>\n",
       "      <td>2015-08-01 20:47:42</td>\n",
       "      <td>2015-8</td>\n",
       "      <td>2343.82</td>\n",
       "    </tr>\n",
       "    <tr>\n",
       "      <th>328</th>\n",
       "      <td>1013870087888817</td>\n",
       "      <td>2015-08-01 22:34:22</td>\n",
       "      <td>78.88</td>\n",
       "      <td>-72.085300</td>\n",
       "      <td>43.204330</td>\n",
       "      <td>2015-08-01 22:34:22</td>\n",
       "      <td>2015-8</td>\n",
       "      <td>2571.34</td>\n",
       "    </tr>\n",
       "    <tr>\n",
       "      <th>368</th>\n",
       "      <td>1013870087888817</td>\n",
       "      <td>2015-08-02 01:01:05</td>\n",
       "      <td>95.79</td>\n",
       "      <td>-72.184626</td>\n",
       "      <td>43.188291</td>\n",
       "      <td>2015-08-02 01:01:05</td>\n",
       "      <td>2015-8</td>\n",
       "      <td>3620.72</td>\n",
       "    </tr>\n",
       "    <tr>\n",
       "      <th>510</th>\n",
       "      <td>1013870087888817</td>\n",
       "      <td>2015-08-02 20:37:15</td>\n",
       "      <td>25.20</td>\n",
       "      <td>-72.075695</td>\n",
       "      <td>43.132618</td>\n",
       "      <td>2015-08-02 20:37:15</td>\n",
       "      <td>2015-8</td>\n",
       "      <td>3946.34</td>\n",
       "    </tr>\n",
       "    <tr>\n",
       "      <th>547</th>\n",
       "      <td>1013870087888817</td>\n",
       "      <td>2015-08-02 21:16:19</td>\n",
       "      <td>56.98</td>\n",
       "      <td>-72.146238</td>\n",
       "      <td>43.153029</td>\n",
       "      <td>2015-08-02 21:16:19</td>\n",
       "      <td>2015-8</td>\n",
       "      <td>3971.54</td>\n",
       "    </tr>\n",
       "    <tr>\n",
       "      <th>400</th>\n",
       "      <td>1013870087888817</td>\n",
       "      <td>2015-08-04 13:31:43</td>\n",
       "      <td>105.79</td>\n",
       "      <td>-72.176369</td>\n",
       "      <td>43.156524</td>\n",
       "      <td>2015-08-04 13:31:43</td>\n",
       "      <td>2015-8</td>\n",
       "      <td>5636.98</td>\n",
       "    </tr>\n",
       "    <tr>\n",
       "      <th>468</th>\n",
       "      <td>1013870087888817</td>\n",
       "      <td>2015-08-04 18:45:30</td>\n",
       "      <td>25.97</td>\n",
       "      <td>-72.112287</td>\n",
       "      <td>43.243267</td>\n",
       "      <td>2015-08-04 18:45:30</td>\n",
       "      <td>2015-8</td>\n",
       "      <td>5880.80</td>\n",
       "    </tr>\n",
       "    <tr>\n",
       "      <th>589</th>\n",
       "      <td>1013870087888817</td>\n",
       "      <td>2015-08-04 21:04:02</td>\n",
       "      <td>21.49</td>\n",
       "      <td>35.287555</td>\n",
       "      <td>47.606486</td>\n",
       "      <td>2015-08-04 21:04:02</td>\n",
       "      <td>2015-8</td>\n",
       "      <td>5906.77</td>\n",
       "    </tr>\n",
       "    <tr>\n",
       "      <th>383</th>\n",
       "      <td>1013870087888817</td>\n",
       "      <td>2015-08-05 13:19:58</td>\n",
       "      <td>107.99</td>\n",
       "      <td>-72.011720</td>\n",
       "      <td>43.166334</td>\n",
       "      <td>2015-08-05 13:19:58</td>\n",
       "      <td>2015-8</td>\n",
       "      <td>6745.67</td>\n",
       "    </tr>\n",
       "    <tr>\n",
       "      <th>469</th>\n",
       "      <td>1013870087888817</td>\n",
       "      <td>2015-08-05 18:28:04</td>\n",
       "      <td>86.73</td>\n",
       "      <td>-72.032170</td>\n",
       "      <td>43.136691</td>\n",
       "      <td>2015-08-05 18:28:04</td>\n",
       "      <td>2015-8</td>\n",
       "      <td>6995.73</td>\n",
       "    </tr>\n",
       "    <tr>\n",
       "      <th>588</th>\n",
       "      <td>1013870087888817</td>\n",
       "      <td>2015-08-05 20:52:09</td>\n",
       "      <td>75.60</td>\n",
       "      <td>-72.108078</td>\n",
       "      <td>43.138276</td>\n",
       "      <td>2015-08-05 20:52:09</td>\n",
       "      <td>2015-8</td>\n",
       "      <td>7197.57</td>\n",
       "    </tr>\n",
       "    <tr>\n",
       "      <th>347</th>\n",
       "      <td>1013870087888817</td>\n",
       "      <td>2015-08-05 22:21:04</td>\n",
       "      <td>127.48</td>\n",
       "      <td>-72.143295</td>\n",
       "      <td>43.135688</td>\n",
       "      <td>2015-08-05 22:21:04</td>\n",
       "      <td>2015-8</td>\n",
       "      <td>7273.17</td>\n",
       "    </tr>\n",
       "    <tr>\n",
       "      <th>572</th>\n",
       "      <td>1013870087888817</td>\n",
       "      <td>2015-08-06 17:02:14</td>\n",
       "      <td>150.95</td>\n",
       "      <td>-72.075345</td>\n",
       "      <td>43.183584</td>\n",
       "      <td>2015-08-06 17:02:14</td>\n",
       "      <td>2015-8</td>\n",
       "      <td>7733.89</td>\n",
       "    </tr>\n",
       "    <tr>\n",
       "      <th>276</th>\n",
       "      <td>1013870087888817</td>\n",
       "      <td>2015-08-06 20:52:41</td>\n",
       "      <td>12.41</td>\n",
       "      <td>-72.124650</td>\n",
       "      <td>43.200504</td>\n",
       "      <td>2015-08-06 20:52:41</td>\n",
       "      <td>2015-8</td>\n",
       "      <td>8150.65</td>\n",
       "    </tr>\n",
       "    <tr>\n",
       "      <th>291</th>\n",
       "      <td>1013870087888817</td>\n",
       "      <td>2015-08-06 22:58:17</td>\n",
       "      <td>170.83</td>\n",
       "      <td>-72.105506</td>\n",
       "      <td>43.138697</td>\n",
       "      <td>2015-08-06 22:58:17</td>\n",
       "      <td>2015-8</td>\n",
       "      <td>8916.08</td>\n",
       "    </tr>\n",
       "    <tr>\n",
       "      <th>289</th>\n",
       "      <td>1013870087888817</td>\n",
       "      <td>2015-08-06 23:07:17</td>\n",
       "      <td>173.06</td>\n",
       "      <td>-72.078934</td>\n",
       "      <td>43.194725</td>\n",
       "      <td>2015-08-06 23:07:17</td>\n",
       "      <td>2015-8</td>\n",
       "      <td>9224.07</td>\n",
       "    </tr>\n",
       "    <tr>\n",
       "      <th>279</th>\n",
       "      <td>1013870087888817</td>\n",
       "      <td>2015-08-06 23:29:44</td>\n",
       "      <td>192.69</td>\n",
       "      <td>-72.080751</td>\n",
       "      <td>43.239949</td>\n",
       "      <td>2015-08-06 23:29:44</td>\n",
       "      <td>2015-8</td>\n",
       "      <td>9397.13</td>\n",
       "    </tr>\n",
       "    <tr>\n",
       "      <th>554</th>\n",
       "      <td>1013870087888817</td>\n",
       "      <td>2015-08-06 23:55:48</td>\n",
       "      <td>9.17</td>\n",
       "      <td>-72.098950</td>\n",
       "      <td>43.096081</td>\n",
       "      <td>2015-08-06 23:55:48</td>\n",
       "      <td>2015-8</td>\n",
       "      <td>9647.38</td>\n",
       "    </tr>\n",
       "    <tr>\n",
       "      <th>475</th>\n",
       "      <td>1013870087888817</td>\n",
       "      <td>2015-08-07 01:51:06</td>\n",
       "      <td>148.77</td>\n",
       "      <td>-72.079509</td>\n",
       "      <td>43.198195</td>\n",
       "      <td>2015-08-07 01:51:06</td>\n",
       "      <td>2015-8</td>\n",
       "      <td>9919.65</td>\n",
       "    </tr>\n",
       "    <tr>\n",
       "      <th>558</th>\n",
       "      <td>1013870087888817</td>\n",
       "      <td>2015-08-07 14:46:23</td>\n",
       "      <td>75.03</td>\n",
       "      <td>-72.110308</td>\n",
       "      <td>43.187046</td>\n",
       "      <td>2015-08-07 14:46:23</td>\n",
       "      <td>2015-8</td>\n",
       "      <td>10139.44</td>\n",
       "    </tr>\n",
       "    <tr>\n",
       "      <th>559</th>\n",
       "      <td>1013870087888817</td>\n",
       "      <td>2015-08-07 14:46:24</td>\n",
       "      <td>53.18</td>\n",
       "      <td>-72.152025</td>\n",
       "      <td>43.126429</td>\n",
       "      <td>2015-08-07 14:46:24</td>\n",
       "      <td>2015-8</td>\n",
       "      <td>10214.47</td>\n",
       "    </tr>\n",
       "    <tr>\n",
       "      <th>560</th>\n",
       "      <td>1013870087888817</td>\n",
       "      <td>2015-08-07 14:46:25</td>\n",
       "      <td>19.41</td>\n",
       "      <td>-72.135385</td>\n",
       "      <td>43.094440</td>\n",
       "      <td>2015-08-07 14:46:25</td>\n",
       "      <td>2015-8</td>\n",
       "      <td>10267.65</td>\n",
       "    </tr>\n",
       "    <tr>\n",
       "      <th>463</th>\n",
       "      <td>1013870087888817</td>\n",
       "      <td>2015-08-07 16:32:25</td>\n",
       "      <td>111.69</td>\n",
       "      <td>-72.108147</td>\n",
       "      <td>43.175961</td>\n",
       "      <td>2015-08-07 16:32:25</td>\n",
       "      <td>2015-8</td>\n",
       "      <td>10287.06</td>\n",
       "    </tr>\n",
       "    <tr>\n",
       "      <th>...</th>\n",
       "      <td>...</td>\n",
       "      <td>...</td>\n",
       "      <td>...</td>\n",
       "      <td>...</td>\n",
       "      <td>...</td>\n",
       "      <td>...</td>\n",
       "      <td>...</td>\n",
       "      <td>...</td>\n",
       "    </tr>\n",
       "    <tr>\n",
       "      <th>312</th>\n",
       "      <td>1013870087888817</td>\n",
       "      <td>2015-09-03 15:41:32</td>\n",
       "      <td>92.33</td>\n",
       "      <td>-72.154373</td>\n",
       "      <td>43.239579</td>\n",
       "      <td>2015-09-03 15:41:32</td>\n",
       "      <td>2015-9</td>\n",
       "      <td>13361.46</td>\n",
       "    </tr>\n",
       "    <tr>\n",
       "      <th>372</th>\n",
       "      <td>1013870087888817</td>\n",
       "      <td>2015-09-03 20:08:34</td>\n",
       "      <td>93.78</td>\n",
       "      <td>-72.045528</td>\n",
       "      <td>43.148084</td>\n",
       "      <td>2015-09-03 20:08:34</td>\n",
       "      <td>2015-9</td>\n",
       "      <td>13501.57</td>\n",
       "    </tr>\n",
       "    <tr>\n",
       "      <th>353</th>\n",
       "      <td>1013870087888817</td>\n",
       "      <td>2015-09-03 20:23:08</td>\n",
       "      <td>91.64</td>\n",
       "      <td>-72.150857</td>\n",
       "      <td>43.236199</td>\n",
       "      <td>2015-09-03 20:23:08</td>\n",
       "      <td>2015-9</td>\n",
       "      <td>13704.33</td>\n",
       "    </tr>\n",
       "    <tr>\n",
       "      <th>427</th>\n",
       "      <td>1013870087888817</td>\n",
       "      <td>2015-09-03 21:13:52</td>\n",
       "      <td>62.13</td>\n",
       "      <td>-72.139913</td>\n",
       "      <td>43.194271</td>\n",
       "      <td>2015-09-03 21:13:52</td>\n",
       "      <td>2015-9</td>\n",
       "      <td>14234.58</td>\n",
       "    </tr>\n",
       "    <tr>\n",
       "      <th>344</th>\n",
       "      <td>1013870087888817</td>\n",
       "      <td>2015-09-03 21:54:22</td>\n",
       "      <td>140.34</td>\n",
       "      <td>-72.095244</td>\n",
       "      <td>43.091459</td>\n",
       "      <td>2015-09-03 21:54:22</td>\n",
       "      <td>2015-9</td>\n",
       "      <td>14193.89</td>\n",
       "    </tr>\n",
       "    <tr>\n",
       "      <th>441</th>\n",
       "      <td>1013870087888817</td>\n",
       "      <td>2015-09-03 23:26:34</td>\n",
       "      <td>131.31</td>\n",
       "      <td>-72.088419</td>\n",
       "      <td>43.219457</td>\n",
       "      <td>2015-09-03 23:26:34</td>\n",
       "      <td>2015-9</td>\n",
       "      <td>13296.43</td>\n",
       "    </tr>\n",
       "    <tr>\n",
       "      <th>459</th>\n",
       "      <td>1013870087888817</td>\n",
       "      <td>2015-09-04 02:16:04</td>\n",
       "      <td>149.19</td>\n",
       "      <td>-72.076189</td>\n",
       "      <td>43.152376</td>\n",
       "      <td>2015-09-04 02:16:04</td>\n",
       "      <td>2015-9</td>\n",
       "      <td>13427.74</td>\n",
       "    </tr>\n",
       "    <tr>\n",
       "      <th>356</th>\n",
       "      <td>1013870087888817</td>\n",
       "      <td>2015-09-04 16:19:08</td>\n",
       "      <td>194.92</td>\n",
       "      <td>-72.070717</td>\n",
       "      <td>43.173393</td>\n",
       "      <td>2015-09-04 16:19:08</td>\n",
       "      <td>2015-9</td>\n",
       "      <td>13526.50</td>\n",
       "    </tr>\n",
       "    <tr>\n",
       "      <th>330</th>\n",
       "      <td>1013870087888817</td>\n",
       "      <td>2015-09-04 21:48:51</td>\n",
       "      <td>130.15</td>\n",
       "      <td>-72.099397</td>\n",
       "      <td>43.228109</td>\n",
       "      <td>2015-09-04 21:48:51</td>\n",
       "      <td>2015-9</td>\n",
       "      <td>13761.18</td>\n",
       "    </tr>\n",
       "    <tr>\n",
       "      <th>325</th>\n",
       "      <td>1013870087888817</td>\n",
       "      <td>2015-09-04 22:08:39</td>\n",
       "      <td>138.72</td>\n",
       "      <td>-72.150453</td>\n",
       "      <td>43.185610</td>\n",
       "      <td>2015-09-04 22:08:39</td>\n",
       "      <td>2015-9</td>\n",
       "      <td>14266.43</td>\n",
       "    </tr>\n",
       "    <tr>\n",
       "      <th>340</th>\n",
       "      <td>1013870087888817</td>\n",
       "      <td>2015-09-04 23:31:17</td>\n",
       "      <td>91.17</td>\n",
       "      <td>-72.042236</td>\n",
       "      <td>43.224949</td>\n",
       "      <td>2015-09-04 23:31:17</td>\n",
       "      <td>2015-9</td>\n",
       "      <td>14290.94</td>\n",
       "    </tr>\n",
       "    <tr>\n",
       "      <th>321</th>\n",
       "      <td>1013870087888817</td>\n",
       "      <td>2015-09-05 17:16:30</td>\n",
       "      <td>30.74</td>\n",
       "      <td>-72.115626</td>\n",
       "      <td>43.090692</td>\n",
       "      <td>2015-09-05 17:16:30</td>\n",
       "      <td>2015-9</td>\n",
       "      <td>14168.67</td>\n",
       "    </tr>\n",
       "    <tr>\n",
       "      <th>402</th>\n",
       "      <td>1013870087888817</td>\n",
       "      <td>2015-09-05 18:27:01</td>\n",
       "      <td>70.75</td>\n",
       "      <td>-72.164223</td>\n",
       "      <td>43.136403</td>\n",
       "      <td>2015-09-05 18:27:01</td>\n",
       "      <td>2015-9</td>\n",
       "      <td>14199.41</td>\n",
       "    </tr>\n",
       "    <tr>\n",
       "      <th>294</th>\n",
       "      <td>1013870087888817</td>\n",
       "      <td>2015-09-07 13:50:01</td>\n",
       "      <td>130.22</td>\n",
       "      <td>-72.093232</td>\n",
       "      <td>43.185075</td>\n",
       "      <td>2015-09-07 13:50:01</td>\n",
       "      <td>2015-9</td>\n",
       "      <td>12732.39</td>\n",
       "    </tr>\n",
       "    <tr>\n",
       "      <th>397</th>\n",
       "      <td>1013870087888817</td>\n",
       "      <td>2015-09-07 20:05:21</td>\n",
       "      <td>175.83</td>\n",
       "      <td>-72.099518</td>\n",
       "      <td>43.161484</td>\n",
       "      <td>2015-09-07 20:05:21</td>\n",
       "      <td>2015-9</td>\n",
       "      <td>12331.87</td>\n",
       "    </tr>\n",
       "    <tr>\n",
       "      <th>435</th>\n",
       "      <td>1013870087888817</td>\n",
       "      <td>2015-09-07 20:16:57</td>\n",
       "      <td>150.91</td>\n",
       "      <td>-72.161978</td>\n",
       "      <td>43.140528</td>\n",
       "      <td>2015-09-07 20:16:57</td>\n",
       "      <td>2015-9</td>\n",
       "      <td>12507.70</td>\n",
       "    </tr>\n",
       "    <tr>\n",
       "      <th>317</th>\n",
       "      <td>1013870087888817</td>\n",
       "      <td>2015-09-07 23:25:57</td>\n",
       "      <td>98.59</td>\n",
       "      <td>-72.076267</td>\n",
       "      <td>43.113442</td>\n",
       "      <td>2015-09-07 23:25:57</td>\n",
       "      <td>2015-9</td>\n",
       "      <td>12396.97</td>\n",
       "    </tr>\n",
       "    <tr>\n",
       "      <th>292</th>\n",
       "      <td>1013870087888817</td>\n",
       "      <td>2015-09-08 20:44:01</td>\n",
       "      <td>63.26</td>\n",
       "      <td>-72.135680</td>\n",
       "      <td>43.098407</td>\n",
       "      <td>2015-09-08 20:44:01</td>\n",
       "      <td>2015-9</td>\n",
       "      <td>11927.27</td>\n",
       "    </tr>\n",
       "    <tr>\n",
       "      <th>334</th>\n",
       "      <td>1013870087888817</td>\n",
       "      <td>2015-09-08 21:21:50</td>\n",
       "      <td>56.05</td>\n",
       "      <td>-72.046149</td>\n",
       "      <td>43.215496</td>\n",
       "      <td>2015-09-08 21:21:50</td>\n",
       "      <td>2015-9</td>\n",
       "      <td>12078.24</td>\n",
       "    </tr>\n",
       "    <tr>\n",
       "      <th>595</th>\n",
       "      <td>1013870087888817</td>\n",
       "      <td>2015-09-08 22:04:10</td>\n",
       "      <td>73.29</td>\n",
       "      <td>-72.075657</td>\n",
       "      <td>43.244070</td>\n",
       "      <td>2015-09-08 22:04:10</td>\n",
       "      <td>2015-9</td>\n",
       "      <td>12392.34</td>\n",
       "    </tr>\n",
       "    <tr>\n",
       "      <th>541</th>\n",
       "      <td>1013870087888817</td>\n",
       "      <td>2015-09-09 16:39:37</td>\n",
       "      <td>77.00</td>\n",
       "      <td>-72.103097</td>\n",
       "      <td>43.241947</td>\n",
       "      <td>2015-09-09 16:39:37</td>\n",
       "      <td>2015-9</td>\n",
       "      <td>12363.15</td>\n",
       "    </tr>\n",
       "    <tr>\n",
       "      <th>414</th>\n",
       "      <td>1013870087888817</td>\n",
       "      <td>2015-09-09 17:22:26</td>\n",
       "      <td>38.44</td>\n",
       "      <td>-72.146896</td>\n",
       "      <td>43.239645</td>\n",
       "      <td>2015-09-09 17:22:26</td>\n",
       "      <td>2015-9</td>\n",
       "      <td>12440.15</td>\n",
       "    </tr>\n",
       "    <tr>\n",
       "      <th>591</th>\n",
       "      <td>1013870087888817</td>\n",
       "      <td>2015-09-09 18:14:56</td>\n",
       "      <td>69.48</td>\n",
       "      <td>-72.032035</td>\n",
       "      <td>43.204221</td>\n",
       "      <td>2015-09-09 18:14:56</td>\n",
       "      <td>2015-9</td>\n",
       "      <td>12478.59</td>\n",
       "    </tr>\n",
       "    <tr>\n",
       "      <th>457</th>\n",
       "      <td>1013870087888817</td>\n",
       "      <td>2015-09-09 20:24:07</td>\n",
       "      <td>100.65</td>\n",
       "      <td>-72.082385</td>\n",
       "      <td>43.123128</td>\n",
       "      <td>2015-09-09 20:24:07</td>\n",
       "      <td>2015-9</td>\n",
       "      <td>12995.85</td>\n",
       "    </tr>\n",
       "    <tr>\n",
       "      <th>350</th>\n",
       "      <td>1013870087888817</td>\n",
       "      <td>2015-09-09 21:02:52</td>\n",
       "      <td>67.75</td>\n",
       "      <td>-72.153535</td>\n",
       "      <td>43.242490</td>\n",
       "      <td>2015-09-09 21:02:52</td>\n",
       "      <td>2015-9</td>\n",
       "      <td>13019.80</td>\n",
       "    </tr>\n",
       "    <tr>\n",
       "      <th>526</th>\n",
       "      <td>1013870087888817</td>\n",
       "      <td>2015-09-10 16:27:46</td>\n",
       "      <td>110.54</td>\n",
       "      <td>-72.018701</td>\n",
       "      <td>43.138995</td>\n",
       "      <td>2015-09-10 16:27:46</td>\n",
       "      <td>2015-9</td>\n",
       "      <td>13238.97</td>\n",
       "    </tr>\n",
       "    <tr>\n",
       "      <th>472</th>\n",
       "      <td>1013870087888817</td>\n",
       "      <td>2015-09-10 18:01:44</td>\n",
       "      <td>21.85</td>\n",
       "      <td>-72.022041</td>\n",
       "      <td>43.156432</td>\n",
       "      <td>2015-09-10 18:01:44</td>\n",
       "      <td>2015-9</td>\n",
       "      <td>13399.10</td>\n",
       "    </tr>\n",
       "    <tr>\n",
       "      <th>456</th>\n",
       "      <td>1013870087888817</td>\n",
       "      <td>2015-09-10 18:24:17</td>\n",
       "      <td>0.81</td>\n",
       "      <td>-72.077798</td>\n",
       "      <td>43.204047</td>\n",
       "      <td>2015-09-10 18:24:17</td>\n",
       "      <td>2015-9</td>\n",
       "      <td>13443.26</td>\n",
       "    </tr>\n",
       "    <tr>\n",
       "      <th>361</th>\n",
       "      <td>1013870087888817</td>\n",
       "      <td>2015-09-10 18:28:49</td>\n",
       "      <td>100.83</td>\n",
       "      <td>-72.025030</td>\n",
       "      <td>43.120595</td>\n",
       "      <td>2015-09-10 18:28:49</td>\n",
       "      <td>2015-9</td>\n",
       "      <td>13444.07</td>\n",
       "    </tr>\n",
       "    <tr>\n",
       "      <th>546</th>\n",
       "      <td>1013870087888817</td>\n",
       "      <td>2015-09-10 19:55:14</td>\n",
       "      <td>87.83</td>\n",
       "      <td>-72.077087</td>\n",
       "      <td>43.152572</td>\n",
       "      <td>2015-09-10 19:55:14</td>\n",
       "      <td>2015-9</td>\n",
       "      <td>13651.75</td>\n",
       "    </tr>\n",
       "  </tbody>\n",
       "</table>\n",
       "<p>164 rows × 8 columns</p>\n",
       "</div>"
      ],
      "text/plain": [
       "          credit_card                 date  transaction_dollar_amount  \\\n",
       "506  1013870087888817  2015-07-31 18:24:45                      52.44   \n",
       "392  1013870087888817  2015-07-31 18:24:47                      73.89   \n",
       "389  1013870087888817  2015-07-31 19:31:11                      73.72   \n",
       "579  1013870087888817  2015-07-31 21:15:08                      81.38   \n",
       "556  1013870087888817  2015-08-01 18:11:34                     105.54   \n",
       "358  1013870087888817  2015-08-01 18:18:23                     118.86   \n",
       "501  1013870087888817  2015-08-01 19:41:59                     114.80   \n",
       "366  1013870087888817  2015-08-01 20:47:42                     152.65   \n",
       "328  1013870087888817  2015-08-01 22:34:22                      78.88   \n",
       "368  1013870087888817  2015-08-02 01:01:05                      95.79   \n",
       "510  1013870087888817  2015-08-02 20:37:15                      25.20   \n",
       "547  1013870087888817  2015-08-02 21:16:19                      56.98   \n",
       "400  1013870087888817  2015-08-04 13:31:43                     105.79   \n",
       "468  1013870087888817  2015-08-04 18:45:30                      25.97   \n",
       "589  1013870087888817  2015-08-04 21:04:02                      21.49   \n",
       "383  1013870087888817  2015-08-05 13:19:58                     107.99   \n",
       "469  1013870087888817  2015-08-05 18:28:04                      86.73   \n",
       "588  1013870087888817  2015-08-05 20:52:09                      75.60   \n",
       "347  1013870087888817  2015-08-05 22:21:04                     127.48   \n",
       "572  1013870087888817  2015-08-06 17:02:14                     150.95   \n",
       "276  1013870087888817  2015-08-06 20:52:41                      12.41   \n",
       "291  1013870087888817  2015-08-06 22:58:17                     170.83   \n",
       "289  1013870087888817  2015-08-06 23:07:17                     173.06   \n",
       "279  1013870087888817  2015-08-06 23:29:44                     192.69   \n",
       "554  1013870087888817  2015-08-06 23:55:48                       9.17   \n",
       "475  1013870087888817  2015-08-07 01:51:06                     148.77   \n",
       "558  1013870087888817  2015-08-07 14:46:23                      75.03   \n",
       "559  1013870087888817  2015-08-07 14:46:24                      53.18   \n",
       "560  1013870087888817  2015-08-07 14:46:25                      19.41   \n",
       "463  1013870087888817  2015-08-07 16:32:25                     111.69   \n",
       "..                ...                  ...                        ...   \n",
       "312  1013870087888817  2015-09-03 15:41:32                      92.33   \n",
       "372  1013870087888817  2015-09-03 20:08:34                      93.78   \n",
       "353  1013870087888817  2015-09-03 20:23:08                      91.64   \n",
       "427  1013870087888817  2015-09-03 21:13:52                      62.13   \n",
       "344  1013870087888817  2015-09-03 21:54:22                     140.34   \n",
       "441  1013870087888817  2015-09-03 23:26:34                     131.31   \n",
       "459  1013870087888817  2015-09-04 02:16:04                     149.19   \n",
       "356  1013870087888817  2015-09-04 16:19:08                     194.92   \n",
       "330  1013870087888817  2015-09-04 21:48:51                     130.15   \n",
       "325  1013870087888817  2015-09-04 22:08:39                     138.72   \n",
       "340  1013870087888817  2015-09-04 23:31:17                      91.17   \n",
       "321  1013870087888817  2015-09-05 17:16:30                      30.74   \n",
       "402  1013870087888817  2015-09-05 18:27:01                      70.75   \n",
       "294  1013870087888817  2015-09-07 13:50:01                     130.22   \n",
       "397  1013870087888817  2015-09-07 20:05:21                     175.83   \n",
       "435  1013870087888817  2015-09-07 20:16:57                     150.91   \n",
       "317  1013870087888817  2015-09-07 23:25:57                      98.59   \n",
       "292  1013870087888817  2015-09-08 20:44:01                      63.26   \n",
       "334  1013870087888817  2015-09-08 21:21:50                      56.05   \n",
       "595  1013870087888817  2015-09-08 22:04:10                      73.29   \n",
       "541  1013870087888817  2015-09-09 16:39:37                      77.00   \n",
       "414  1013870087888817  2015-09-09 17:22:26                      38.44   \n",
       "591  1013870087888817  2015-09-09 18:14:56                      69.48   \n",
       "457  1013870087888817  2015-09-09 20:24:07                     100.65   \n",
       "350  1013870087888817  2015-09-09 21:02:52                      67.75   \n",
       "526  1013870087888817  2015-09-10 16:27:46                     110.54   \n",
       "472  1013870087888817  2015-09-10 18:01:44                      21.85   \n",
       "456  1013870087888817  2015-09-10 18:24:17                       0.81   \n",
       "361  1013870087888817  2015-09-10 18:28:49                     100.83   \n",
       "546  1013870087888817  2015-09-10 19:55:14                      87.83   \n",
       "\n",
       "          Long        Lat           date_date   month  rolling_total  \n",
       "506 -72.178895  43.195511 2015-07-31 18:24:45  2015-7         411.55  \n",
       "392 -72.124877  43.214593 2015-07-31 18:24:47  2015-7         463.99  \n",
       "389 -72.039532  43.207551 2015-07-31 19:31:11  2015-7         537.88  \n",
       "579 -72.057612  43.176706 2015-07-31 21:15:08  2015-7         955.62  \n",
       "556 -72.046728  43.220051 2015-08-01 18:11:34  2015-8        1755.90  \n",
       "358 -72.027981  43.153299 2015-08-01 18:18:23  2015-8        1861.44  \n",
       "501 -72.035413  43.175898 2015-08-01 19:41:59  2015-8        2138.92  \n",
       "366 -72.081872  43.097129 2015-08-01 20:47:42  2015-8        2343.82  \n",
       "328 -72.085300  43.204330 2015-08-01 22:34:22  2015-8        2571.34  \n",
       "368 -72.184626  43.188291 2015-08-02 01:01:05  2015-8        3620.72  \n",
       "510 -72.075695  43.132618 2015-08-02 20:37:15  2015-8        3946.34  \n",
       "547 -72.146238  43.153029 2015-08-02 21:16:19  2015-8        3971.54  \n",
       "400 -72.176369  43.156524 2015-08-04 13:31:43  2015-8        5636.98  \n",
       "468 -72.112287  43.243267 2015-08-04 18:45:30  2015-8        5880.80  \n",
       "589  35.287555  47.606486 2015-08-04 21:04:02  2015-8        5906.77  \n",
       "383 -72.011720  43.166334 2015-08-05 13:19:58  2015-8        6745.67  \n",
       "469 -72.032170  43.136691 2015-08-05 18:28:04  2015-8        6995.73  \n",
       "588 -72.108078  43.138276 2015-08-05 20:52:09  2015-8        7197.57  \n",
       "347 -72.143295  43.135688 2015-08-05 22:21:04  2015-8        7273.17  \n",
       "572 -72.075345  43.183584 2015-08-06 17:02:14  2015-8        7733.89  \n",
       "276 -72.124650  43.200504 2015-08-06 20:52:41  2015-8        8150.65  \n",
       "291 -72.105506  43.138697 2015-08-06 22:58:17  2015-8        8916.08  \n",
       "289 -72.078934  43.194725 2015-08-06 23:07:17  2015-8        9224.07  \n",
       "279 -72.080751  43.239949 2015-08-06 23:29:44  2015-8        9397.13  \n",
       "554 -72.098950  43.096081 2015-08-06 23:55:48  2015-8        9647.38  \n",
       "475 -72.079509  43.198195 2015-08-07 01:51:06  2015-8        9919.65  \n",
       "558 -72.110308  43.187046 2015-08-07 14:46:23  2015-8       10139.44  \n",
       "559 -72.152025  43.126429 2015-08-07 14:46:24  2015-8       10214.47  \n",
       "560 -72.135385  43.094440 2015-08-07 14:46:25  2015-8       10267.65  \n",
       "463 -72.108147  43.175961 2015-08-07 16:32:25  2015-8       10287.06  \n",
       "..         ...        ...                 ...     ...            ...  \n",
       "312 -72.154373  43.239579 2015-09-03 15:41:32  2015-9       13361.46  \n",
       "372 -72.045528  43.148084 2015-09-03 20:08:34  2015-9       13501.57  \n",
       "353 -72.150857  43.236199 2015-09-03 20:23:08  2015-9       13704.33  \n",
       "427 -72.139913  43.194271 2015-09-03 21:13:52  2015-9       14234.58  \n",
       "344 -72.095244  43.091459 2015-09-03 21:54:22  2015-9       14193.89  \n",
       "441 -72.088419  43.219457 2015-09-03 23:26:34  2015-9       13296.43  \n",
       "459 -72.076189  43.152376 2015-09-04 02:16:04  2015-9       13427.74  \n",
       "356 -72.070717  43.173393 2015-09-04 16:19:08  2015-9       13526.50  \n",
       "330 -72.099397  43.228109 2015-09-04 21:48:51  2015-9       13761.18  \n",
       "325 -72.150453  43.185610 2015-09-04 22:08:39  2015-9       14266.43  \n",
       "340 -72.042236  43.224949 2015-09-04 23:31:17  2015-9       14290.94  \n",
       "321 -72.115626  43.090692 2015-09-05 17:16:30  2015-9       14168.67  \n",
       "402 -72.164223  43.136403 2015-09-05 18:27:01  2015-9       14199.41  \n",
       "294 -72.093232  43.185075 2015-09-07 13:50:01  2015-9       12732.39  \n",
       "397 -72.099518  43.161484 2015-09-07 20:05:21  2015-9       12331.87  \n",
       "435 -72.161978  43.140528 2015-09-07 20:16:57  2015-9       12507.70  \n",
       "317 -72.076267  43.113442 2015-09-07 23:25:57  2015-9       12396.97  \n",
       "292 -72.135680  43.098407 2015-09-08 20:44:01  2015-9       11927.27  \n",
       "334 -72.046149  43.215496 2015-09-08 21:21:50  2015-9       12078.24  \n",
       "595 -72.075657  43.244070 2015-09-08 22:04:10  2015-9       12392.34  \n",
       "541 -72.103097  43.241947 2015-09-09 16:39:37  2015-9       12363.15  \n",
       "414 -72.146896  43.239645 2015-09-09 17:22:26  2015-9       12440.15  \n",
       "591 -72.032035  43.204221 2015-09-09 18:14:56  2015-9       12478.59  \n",
       "457 -72.082385  43.123128 2015-09-09 20:24:07  2015-9       12995.85  \n",
       "350 -72.153535  43.242490 2015-09-09 21:02:52  2015-9       13019.80  \n",
       "526 -72.018701  43.138995 2015-09-10 16:27:46  2015-9       13238.97  \n",
       "472 -72.022041  43.156432 2015-09-10 18:01:44  2015-9       13399.10  \n",
       "456 -72.077798  43.204047 2015-09-10 18:24:17  2015-9       13443.26  \n",
       "361 -72.025030  43.120595 2015-09-10 18:28:49  2015-9       13444.07  \n",
       "546 -72.077087  43.152572 2015-09-10 19:55:14  2015-9       13651.75  \n",
       "\n",
       "[164 rows x 8 columns]"
      ]
     },
     "execution_count": 189,
     "metadata": {},
     "output_type": "execute_result"
    }
   ],
   "source": [
    "txn_sample.loc[(txn_sample['credit_card']==1013870087888817) & (txn_sample['date_date']<d_next),:].sort_values(by='date_date') "
   ]
  },
  {
   "cell_type": "code",
   "execution_count": 184,
   "metadata": {
    "collapsed": false
   },
   "outputs": [
    {
     "data": {
      "text/plain": [
       "4891.3199999999997"
      ]
     },
     "execution_count": 184,
     "metadata": {},
     "output_type": "execute_result"
    }
   ],
   "source": [
    "d = datetime.datetime(2015, 9, 10) \n",
    "#单独测试这个function，答案是预期的，但是看txn_sample['rolling_total'] 这个column的value就没有那么正确了\n",
    "getRolling10Days(d,1013870087888817,txn_sample)"
   ]
  },
  {
   "cell_type": "code",
   "execution_count": 82,
   "metadata": {
    "collapsed": true,
    "deletable": true,
    "editable": true
   },
   "outputs": [],
   "source": [
    "#.dt.days, can be calculated for days difference between 2 date columns\n",
    "#data['days_latency']=(data['date']-data['signup_date']).dt.days"
   ]
  },
  {
   "cell_type": "code",
   "execution_count": 83,
   "metadata": {
    "collapsed": false,
    "deletable": true,
    "editable": true
   },
   "outputs": [
    {
     "data": {
      "text/html": [
       "<div>\n",
       "<style>\n",
       "    .dataframe thead tr:only-child th {\n",
       "        text-align: right;\n",
       "    }\n",
       "\n",
       "    .dataframe thead th {\n",
       "        text-align: left;\n",
       "    }\n",
       "\n",
       "    .dataframe tbody tr th {\n",
       "        vertical-align: top;\n",
       "    }\n",
       "</style>\n",
       "<table border=\"1\" class=\"dataframe\">\n",
       "  <thead>\n",
       "    <tr style=\"text-align: right;\">\n",
       "      <th></th>\n",
       "      <th>credit_card</th>\n",
       "      <th>date</th>\n",
       "      <th>transaction_dollar_amount</th>\n",
       "      <th>Long</th>\n",
       "      <th>Lat</th>\n",
       "      <th>date_date</th>\n",
       "      <th>month</th>\n",
       "    </tr>\n",
       "  </thead>\n",
       "  <tbody>\n",
       "    <tr>\n",
       "      <th>0</th>\n",
       "      <td>1003715054175576</td>\n",
       "      <td>2015-09-11 00:32:40</td>\n",
       "      <td>43.78</td>\n",
       "      <td>-80.174132</td>\n",
       "      <td>40.267370</td>\n",
       "      <td>2015-09-11 00:32:40</td>\n",
       "      <td>2015-9</td>\n",
       "    </tr>\n",
       "    <tr>\n",
       "      <th>1</th>\n",
       "      <td>1003715054175576</td>\n",
       "      <td>2015-10-24 22:23:08</td>\n",
       "      <td>103.15</td>\n",
       "      <td>-80.194240</td>\n",
       "      <td>40.180114</td>\n",
       "      <td>2015-10-24 22:23:08</td>\n",
       "      <td>2015-10</td>\n",
       "    </tr>\n",
       "    <tr>\n",
       "      <th>2</th>\n",
       "      <td>1003715054175576</td>\n",
       "      <td>2015-10-26 18:19:36</td>\n",
       "      <td>48.55</td>\n",
       "      <td>-80.211033</td>\n",
       "      <td>40.313004</td>\n",
       "      <td>2015-10-26 18:19:36</td>\n",
       "      <td>2015-10</td>\n",
       "    </tr>\n",
       "    <tr>\n",
       "      <th>3</th>\n",
       "      <td>1003715054175576</td>\n",
       "      <td>2015-10-22 19:41:10</td>\n",
       "      <td>136.18</td>\n",
       "      <td>-80.174138</td>\n",
       "      <td>40.290895</td>\n",
       "      <td>2015-10-22 19:41:10</td>\n",
       "      <td>2015-10</td>\n",
       "    </tr>\n",
       "    <tr>\n",
       "      <th>4</th>\n",
       "      <td>1003715054175576</td>\n",
       "      <td>2015-10-26 20:08:22</td>\n",
       "      <td>71.82</td>\n",
       "      <td>-80.238720</td>\n",
       "      <td>40.166719</td>\n",
       "      <td>2015-10-26 20:08:22</td>\n",
       "      <td>2015-10</td>\n",
       "    </tr>\n",
       "  </tbody>\n",
       "</table>\n",
       "</div>"
      ],
      "text/plain": [
       "        credit_card                 date  transaction_dollar_amount  \\\n",
       "0  1003715054175576  2015-09-11 00:32:40                      43.78   \n",
       "1  1003715054175576  2015-10-24 22:23:08                     103.15   \n",
       "2  1003715054175576  2015-10-26 18:19:36                      48.55   \n",
       "3  1003715054175576  2015-10-22 19:41:10                     136.18   \n",
       "4  1003715054175576  2015-10-26 20:08:22                      71.82   \n",
       "\n",
       "        Long        Lat           date_date    month  \n",
       "0 -80.174132  40.267370 2015-09-11 00:32:40   2015-9  \n",
       "1 -80.194240  40.180114 2015-10-24 22:23:08  2015-10  \n",
       "2 -80.211033  40.313004 2015-10-26 18:19:36  2015-10  \n",
       "3 -80.174138  40.290895 2015-10-22 19:41:10  2015-10  \n",
       "4 -80.238720  40.166719 2015-10-26 20:08:22  2015-10  "
      ]
     },
     "execution_count": 83,
     "metadata": {},
     "output_type": "execute_result"
    }
   ],
   "source": [
    "txn.head()"
   ]
  },
  {
   "cell_type": "code",
   "execution_count": 84,
   "metadata": {
    "collapsed": false,
    "deletable": true,
    "editable": true
   },
   "outputs": [],
   "source": [
    "#format a column from timestamp into dates, \n",
    "#pd.to_datetime(data['timestamp'], unit='s')"
   ]
  },
  {
   "cell_type": "markdown",
   "metadata": {
    "deletable": true,
    "editable": true
   },
   "source": [
    "# fillna"
   ]
  },
  {
   "cell_type": "code",
   "execution_count": 111,
   "metadata": {
    "collapsed": false,
    "deletable": true,
    "editable": true
   },
   "outputs": [],
   "source": [
    "#refer to 12 loan granting as concrete example https://github.com/JifuZhao/DS-Take-Home/blob/master/12.%20Loan%20Granting.ipynb\n",
    "median = data['avg_percentage_credit_card_limit_used_last_year'].median()\n",
    "data = data.fillna({'avg_percentage_credit_card_limit_used_last_year': median})"
   ]
  },
  {
   "cell_type": "markdown",
   "metadata": {
    "deletable": true,
    "editable": true
   },
   "source": [
    "# isnull"
   ]
  },
  {
   "cell_type": "code",
   "execution_count": 86,
   "metadata": {
    "collapsed": false,
    "deletable": true,
    "editable": true
   },
   "outputs": [
    {
     "data": {
      "text/plain": [
       "0"
      ]
     },
     "execution_count": 86,
     "metadata": {},
     "output_type": "execute_result"
    }
   ],
   "source": [
    "referral=pd.read_csv('../TakeHomeChallenge/data/referral.csv')\n",
    "sum(pd.isnull(referral.money_spent)) #check number of rows with null value"
   ]
  },
  {
   "cell_type": "code",
   "execution_count": 88,
   "metadata": {
    "collapsed": false,
    "deletable": true,
    "editable": true
   },
   "outputs": [
    {
     "name": "stdout",
     "output_type": "stream",
     "text": [
      "Missing values per column:\n",
      "user_id        0\n",
      "date           0\n",
      "country        0\n",
      "money_spent    0\n",
      "is_referral    0\n",
      "device_id      0\n",
      "dtype: int64\n",
      "\n",
      "Missing values per row:\n",
      "0    0\n",
      "1    0\n",
      "2    0\n",
      "3    0\n",
      "4    0\n",
      "dtype: int64\n"
     ]
    }
   ],
   "source": [
    "#Create a new function:\n",
    "def num_missing(x):\n",
    "  return sum(x.isnull())\n",
    "\n",
    "#Applying per column:\n",
    "print(\"Missing values per column:\")\n",
    "print(referral.apply(num_missing, axis=0) )#axis=0 defines that function is to be applied on each column\n",
    "\n",
    "#Applying per row:\n",
    "print(\"\\nMissing values per row:\")\n",
    "print(referral.apply(num_missing, axis=1).head()) #axis=1 defines that function is to be applied on each row"
   ]
  },
  {
   "cell_type": "markdown",
   "metadata": {
    "deletable": true,
    "editable": true
   },
   "source": [
    "# AB Test"
   ]
  },
  {
   "cell_type": "code",
   "execution_count": 89,
   "metadata": {
    "collapsed": false,
    "deletable": true,
    "editable": true
   },
   "outputs": [
    {
     "data": {
      "text/plain": [
       "Ttest_indResult(statistic=0.26833823296238857, pvalue=0.78849443369565098)"
      ]
     },
     "execution_count": 89,
     "metadata": {},
     "output_type": "execute_result"
    }
   ],
   "source": [
    "from scipy import stats\n",
    "np.random.seed(12345678)\n",
    "rvs1 = stats.norm.rvs(loc=5,scale=10,size=500)\n",
    "rvs2 = stats.norm.rvs(loc=5,scale=10,size=500)\n",
    "stats.ttest_ind(rvs1,rvs2) \n",
    "#statistic = The calculated t-statistic.\n",
    "#pvalue = The two-tailed p-value.\n",
    "\n",
    "#With symmetric distributions one-sided p-value is just half of the two-sided pvalue"
   ]
  },
  {
   "cell_type": "markdown",
   "metadata": {
    "deletable": true,
    "editable": true
   },
   "source": [
    "It goes on to say that scipy always gives the test statistic as signed. This means that given p and t values from a two-tailed test, you would reject the null hypothesis of a greater-than test when p/2 < alpha and t > 0, and of a less-than test when p/2 < alpha and t < 0.\n",
    "reference: https://stackoverflow.com/questions/15984221/how-to-perform-two-sample-one-tailed-t-test-with-numpy-scipy"
   ]
  },
  {
   "cell_type": "code",
   "execution_count": 90,
   "metadata": {
    "collapsed": false,
    "deletable": true,
    "editable": true
   },
   "outputs": [
    {
     "name": "stdout",
     "output_type": "stream",
     "text": [
      "result is 0.8766\n"
     ]
    }
   ],
   "source": [
    "#print format to 4 decimals\n",
    "f=0.87655\n",
    "print('result is {0:.4f}'.format(f))"
   ]
  },
  {
   "cell_type": "markdown",
   "metadata": {
    "deletable": true,
    "editable": true
   },
   "source": [
    "# lambda function\n",
    "lambda function and if condition"
   ]
  },
  {
   "cell_type": "code",
   "execution_count": 91,
   "metadata": {
    "collapsed": true,
    "deletable": true,
    "editable": true
   },
   "outputs": [],
   "source": [
    "#data['first_time']=data['days_latency'].apply(lambda x: True if x  == 0 else False)"
   ]
  },
  {
   "cell_type": "markdown",
   "metadata": {
    "deletable": true,
    "editable": true
   },
   "source": [
    "# lagging function"
   ]
  },
  {
   "cell_type": "code",
   "execution_count": 92,
   "metadata": {
    "collapsed": false,
    "deletable": true,
    "editable": true
   },
   "outputs": [
    {
     "ename": "NameError",
     "evalue": "name 'df' is not defined",
     "output_type": "error",
     "traceback": [
      "\u001b[1;31m---------------------------------------------------------------------------\u001b[0m",
      "\u001b[1;31mNameError\u001b[0m                                 Traceback (most recent call last)",
      "\u001b[1;32m<ipython-input-92-8e2ec92ac9b1>\u001b[0m in \u001b[0;36m<module>\u001b[1;34m\u001b[0m\n\u001b[1;32m----> 1\u001b[1;33m \u001b[0mdf\u001b[0m\u001b[1;33m[\u001b[0m\u001b[1;34m'Data_lagged'\u001b[0m\u001b[1;33m]\u001b[0m \u001b[1;33m=\u001b[0m \u001b[0mdf\u001b[0m\u001b[1;33m.\u001b[0m\u001b[0mgroupby\u001b[0m\u001b[1;33m(\u001b[0m\u001b[1;33m[\u001b[0m\u001b[1;34m'Group'\u001b[0m\u001b[1;33m]\u001b[0m\u001b[1;33m)\u001b[0m\u001b[1;33m[\u001b[0m\u001b[1;34m'Data'\u001b[0m\u001b[1;33m]\u001b[0m\u001b[1;33m.\u001b[0m\u001b[0mshift\u001b[0m\u001b[1;33m(\u001b[0m\u001b[1;36m1\u001b[0m\u001b[1;33m)\u001b[0m\u001b[1;33m\u001b[0m\u001b[0m\n\u001b[0m\u001b[0;32m      2\u001b[0m \u001b[1;31m#https://stackoverflow.com/questions/23664877/pandas-equivalent-of-oracle-lead-lag-function\u001b[0m\u001b[1;33m\u001b[0m\u001b[1;33m\u001b[0m\u001b[0m\n\u001b[0;32m      3\u001b[0m \u001b[1;31m#when using shift function, df has to been sorted as way you want.\u001b[0m\u001b[1;33m\u001b[0m\u001b[1;33m\u001b[0m\u001b[0m\n",
      "\u001b[1;31mNameError\u001b[0m: name 'df' is not defined"
     ]
    }
   ],
   "source": [
    "df['Data_lagged'] = df.groupby(['Group'])['Data'].shift(1)\n",
    "#https://stackoverflow.com/questions/23664877/pandas-equivalent-of-oracle-lead-lag-function\n",
    "#when using shift function, df has to been sorted as way you want. "
   ]
  },
  {
   "cell_type": "markdown",
   "metadata": {
    "deletable": true,
    "editable": true
   },
   "source": [
    "# mode, median, average \n"
   ]
  },
  {
   "cell_type": "code",
   "execution_count": 93,
   "metadata": {
    "collapsed": false,
    "deletable": true,
    "editable": true
   },
   "outputs": [
    {
     "name": "stdout",
     "output_type": "stream",
     "text": [
      "0\n",
      "ModeResult(mode=array(['UK'], dtype=object), count=array([15493]))"
     ]
    },
    {
     "name": "stderr",
     "output_type": "stream",
     "text": [
      "C:\\Users\\shanchen\\AppData\\Local\\Enthought\\Canopy\\edm\\envs\\User\\lib\\site-packages\\scipy\\stats\\stats.py:253: RuntimeWarning: The input array could not be properly checked for nan values. nan values will be ignored.\n",
      "  \"values. nan values will be ignored.\", RuntimeWarning)\n"
     ]
    },
    {
     "name": "stdout",
     "output_type": "stream",
     "text": [
      "\n"
     ]
    },
    {
     "data": {
      "text/plain": [
       "15493"
      ]
     },
     "execution_count": 93,
     "metadata": {},
     "output_type": "execute_result"
    }
   ],
   "source": [
    "from scipy.stats import mode\n",
    "print(sum(pd.isnull(referral.country))) #check number of rows with null value\n",
    "print(mode(referral['country']))\n",
    "mode(referral['country']).mode[0] #returns value of mode values\n",
    "mode(referral['country']).count[0] #returns value of mode values"
   ]
  },
  {
   "cell_type": "code",
   "execution_count": 94,
   "metadata": {
    "collapsed": false,
    "deletable": true,
    "editable": true
   },
   "outputs": [
    {
     "name": "stdout",
     "output_type": "stream",
     "text": [
      "user_id        4053.0\n",
      "money_spent      42.0\n",
      "is_referral       0.0\n",
      "Name: 0.5, dtype: float64\n",
      "42.0\n"
     ]
    }
   ],
   "source": [
    "#use percentitle method to get median\n",
    "print(referral.quantile(.5)) #get percentile value for data frame \n",
    "print(referral.quantile(.5).loc['money_spent']) #get median value for certain attribute "
   ]
  },
  {
   "cell_type": "code",
   "execution_count": 95,
   "metadata": {
    "collapsed": false,
    "deletable": true,
    "editable": true
   },
   "outputs": [
    {
     "data": {
      "text/plain": [
       "44.692359848368106"
      ]
     },
     "execution_count": 95,
     "metadata": {},
     "output_type": "execute_result"
    }
   ],
   "source": [
    "#get average value \n",
    "referral['money_spent'].mean()"
   ]
  },
  {
   "cell_type": "code",
   "execution_count": 96,
   "metadata": {
    "collapsed": false,
    "deletable": true,
    "editable": true
   },
   "outputs": [
    {
     "data": {
      "text/html": [
       "<div>\n",
       "<style>\n",
       "    .dataframe thead tr:only-child th {\n",
       "        text-align: right;\n",
       "    }\n",
       "\n",
       "    .dataframe thead th {\n",
       "        text-align: left;\n",
       "    }\n",
       "\n",
       "    .dataframe tbody tr th {\n",
       "        vertical-align: top;\n",
       "    }\n",
       "</style>\n",
       "<table border=\"1\" class=\"dataframe\">\n",
       "  <thead>\n",
       "    <tr style=\"text-align: right;\">\n",
       "      <th></th>\n",
       "      <th>user_id</th>\n",
       "      <th>date</th>\n",
       "      <th>country</th>\n",
       "      <th>money_spent</th>\n",
       "      <th>is_referral</th>\n",
       "      <th>device_id</th>\n",
       "    </tr>\n",
       "  </thead>\n",
       "  <tbody>\n",
       "    <tr>\n",
       "      <th>0</th>\n",
       "      <td>2</td>\n",
       "      <td>2015-10-03</td>\n",
       "      <td>FR</td>\n",
       "      <td>65</td>\n",
       "      <td>0</td>\n",
       "      <td>EVDCJTZMVMJDG</td>\n",
       "    </tr>\n",
       "    <tr>\n",
       "      <th>1</th>\n",
       "      <td>3</td>\n",
       "      <td>2015-10-03</td>\n",
       "      <td>CA</td>\n",
       "      <td>54</td>\n",
       "      <td>0</td>\n",
       "      <td>WUBZFTVKXGQQX</td>\n",
       "    </tr>\n",
       "    <tr>\n",
       "      <th>2</th>\n",
       "      <td>6</td>\n",
       "      <td>2015-10-03</td>\n",
       "      <td>FR</td>\n",
       "      <td>35</td>\n",
       "      <td>0</td>\n",
       "      <td>CBAPCJRTFNUJG</td>\n",
       "    </tr>\n",
       "    <tr>\n",
       "      <th>3</th>\n",
       "      <td>7</td>\n",
       "      <td>2015-10-03</td>\n",
       "      <td>UK</td>\n",
       "      <td>73</td>\n",
       "      <td>0</td>\n",
       "      <td>PRGXJZAJKMXRH</td>\n",
       "    </tr>\n",
       "    <tr>\n",
       "      <th>4</th>\n",
       "      <td>7</td>\n",
       "      <td>2015-10-03</td>\n",
       "      <td>MX</td>\n",
       "      <td>35</td>\n",
       "      <td>0</td>\n",
       "      <td>PRGXJZAJKMXRH</td>\n",
       "    </tr>\n",
       "  </tbody>\n",
       "</table>\n",
       "</div>"
      ],
      "text/plain": [
       "   user_id        date country  money_spent  is_referral      device_id\n",
       "0        2  2015-10-03      FR           65            0  EVDCJTZMVMJDG\n",
       "1        3  2015-10-03      CA           54            0  WUBZFTVKXGQQX\n",
       "2        6  2015-10-03      FR           35            0  CBAPCJRTFNUJG\n",
       "3        7  2015-10-03      UK           73            0  PRGXJZAJKMXRH\n",
       "4        7  2015-10-03      MX           35            0  PRGXJZAJKMXRH"
      ]
     },
     "execution_count": 96,
     "metadata": {},
     "output_type": "execute_result"
    }
   ],
   "source": [
    "referral.head()"
   ]
  },
  {
   "cell_type": "markdown",
   "metadata": {
    "deletable": true,
    "editable": true
   },
   "source": [
    "# crosstab\n",
    "excel like pivot "
   ]
  },
  {
   "cell_type": "code",
   "execution_count": 97,
   "metadata": {
    "collapsed": false,
    "deletable": true,
    "editable": true
   },
   "outputs": [
    {
     "data": {
      "text/html": [
       "<div>\n",
       "<style>\n",
       "    .dataframe thead tr:only-child th {\n",
       "        text-align: right;\n",
       "    }\n",
       "\n",
       "    .dataframe thead th {\n",
       "        text-align: left;\n",
       "    }\n",
       "\n",
       "    .dataframe tbody tr th {\n",
       "        vertical-align: top;\n",
       "    }\n",
       "</style>\n",
       "<table border=\"1\" class=\"dataframe\">\n",
       "  <thead>\n",
       "    <tr style=\"text-align: right;\">\n",
       "      <th>country</th>\n",
       "      <th>CA</th>\n",
       "      <th>CH</th>\n",
       "      <th>DE</th>\n",
       "      <th>ES</th>\n",
       "      <th>FR</th>\n",
       "      <th>IT</th>\n",
       "      <th>MX</th>\n",
       "      <th>UK</th>\n",
       "      <th>US</th>\n",
       "      <th>All</th>\n",
       "    </tr>\n",
       "    <tr>\n",
       "      <th>is_referral</th>\n",
       "      <th></th>\n",
       "      <th></th>\n",
       "      <th></th>\n",
       "      <th></th>\n",
       "      <th></th>\n",
       "      <th></th>\n",
       "      <th></th>\n",
       "      <th></th>\n",
       "      <th></th>\n",
       "      <th></th>\n",
       "    </tr>\n",
       "  </thead>\n",
       "  <tbody>\n",
       "    <tr>\n",
       "      <th>0</th>\n",
       "      <td>6934</td>\n",
       "      <td>950</td>\n",
       "      <td>8515</td>\n",
       "      <td>6769</td>\n",
       "      <td>10648</td>\n",
       "      <td>7864</td>\n",
       "      <td>5594</td>\n",
       "      <td>10905</td>\n",
       "      <td>11145</td>\n",
       "      <td>69324</td>\n",
       "    </tr>\n",
       "    <tr>\n",
       "      <th>1</th>\n",
       "      <td>2506</td>\n",
       "      <td>279</td>\n",
       "      <td>2578</td>\n",
       "      <td>3062</td>\n",
       "      <td>4748</td>\n",
       "      <td>3582</td>\n",
       "      <td>2539</td>\n",
       "      <td>4588</td>\n",
       "      <td>4135</td>\n",
       "      <td>28017</td>\n",
       "    </tr>\n",
       "    <tr>\n",
       "      <th>All</th>\n",
       "      <td>9440</td>\n",
       "      <td>1229</td>\n",
       "      <td>11093</td>\n",
       "      <td>9831</td>\n",
       "      <td>15396</td>\n",
       "      <td>11446</td>\n",
       "      <td>8133</td>\n",
       "      <td>15493</td>\n",
       "      <td>15280</td>\n",
       "      <td>97341</td>\n",
       "    </tr>\n",
       "  </tbody>\n",
       "</table>\n",
       "</div>"
      ],
      "text/plain": [
       "country        CA    CH     DE    ES     FR     IT    MX     UK     US    All\n",
       "is_referral                                                                  \n",
       "0            6934   950   8515  6769  10648   7864  5594  10905  11145  69324\n",
       "1            2506   279   2578  3062   4748   3582  2539   4588   4135  28017\n",
       "All          9440  1229  11093  9831  15396  11446  8133  15493  15280  97341"
      ]
     },
     "execution_count": 97,
     "metadata": {},
     "output_type": "execute_result"
    }
   ],
   "source": [
    "pd.crosstab(referral[\"is_referral\"],referral[\"country\"],margins=True)"
   ]
  },
  {
   "cell_type": "code",
   "execution_count": 98,
   "metadata": {
    "collapsed": false,
    "deletable": true,
    "editable": true
   },
   "outputs": [
    {
     "data": {
      "text/html": [
       "<div>\n",
       "<style>\n",
       "    .dataframe thead tr:only-child th {\n",
       "        text-align: right;\n",
       "    }\n",
       "\n",
       "    .dataframe thead th {\n",
       "        text-align: left;\n",
       "    }\n",
       "\n",
       "    .dataframe tbody tr th {\n",
       "        vertical-align: top;\n",
       "    }\n",
       "</style>\n",
       "<table border=\"1\" class=\"dataframe\">\n",
       "  <thead>\n",
       "    <tr style=\"text-align: right;\">\n",
       "      <th>country</th>\n",
       "      <th>CA</th>\n",
       "      <th>CH</th>\n",
       "      <th>DE</th>\n",
       "      <th>ES</th>\n",
       "      <th>FR</th>\n",
       "      <th>IT</th>\n",
       "      <th>MX</th>\n",
       "      <th>UK</th>\n",
       "      <th>US</th>\n",
       "      <th>All</th>\n",
       "    </tr>\n",
       "    <tr>\n",
       "      <th>is_referral</th>\n",
       "      <th></th>\n",
       "      <th></th>\n",
       "      <th></th>\n",
       "      <th></th>\n",
       "      <th></th>\n",
       "      <th></th>\n",
       "      <th></th>\n",
       "      <th></th>\n",
       "      <th></th>\n",
       "      <th></th>\n",
       "    </tr>\n",
       "  </thead>\n",
       "  <tbody>\n",
       "    <tr>\n",
       "      <th>0</th>\n",
       "      <td>0.100023</td>\n",
       "      <td>0.013704</td>\n",
       "      <td>0.122829</td>\n",
       "      <td>0.097643</td>\n",
       "      <td>0.153598</td>\n",
       "      <td>0.113438</td>\n",
       "      <td>0.080694</td>\n",
       "      <td>0.157305</td>\n",
       "      <td>0.160767</td>\n",
       "      <td>1.0</td>\n",
       "    </tr>\n",
       "    <tr>\n",
       "      <th>1</th>\n",
       "      <td>0.089446</td>\n",
       "      <td>0.009958</td>\n",
       "      <td>0.092016</td>\n",
       "      <td>0.109291</td>\n",
       "      <td>0.169469</td>\n",
       "      <td>0.127851</td>\n",
       "      <td>0.090624</td>\n",
       "      <td>0.163758</td>\n",
       "      <td>0.147589</td>\n",
       "      <td>1.0</td>\n",
       "    </tr>\n",
       "    <tr>\n",
       "      <th>All</th>\n",
       "      <td>0.096979</td>\n",
       "      <td>0.012626</td>\n",
       "      <td>0.113960</td>\n",
       "      <td>0.100995</td>\n",
       "      <td>0.158166</td>\n",
       "      <td>0.117587</td>\n",
       "      <td>0.083552</td>\n",
       "      <td>0.159162</td>\n",
       "      <td>0.156974</td>\n",
       "      <td>1.0</td>\n",
       "    </tr>\n",
       "  </tbody>\n",
       "</table>\n",
       "</div>"
      ],
      "text/plain": [
       "country            CA        CH        DE        ES        FR        IT  \\\n",
       "is_referral                                                               \n",
       "0            0.100023  0.013704  0.122829  0.097643  0.153598  0.113438   \n",
       "1            0.089446  0.009958  0.092016  0.109291  0.169469  0.127851   \n",
       "All          0.096979  0.012626  0.113960  0.100995  0.158166  0.117587   \n",
       "\n",
       "country            MX        UK        US  All  \n",
       "is_referral                                     \n",
       "0            0.080694  0.157305  0.160767  1.0  \n",
       "1            0.090624  0.163758  0.147589  1.0  \n",
       "All          0.083552  0.159162  0.156974  1.0  "
      ]
     },
     "execution_count": 98,
     "metadata": {},
     "output_type": "execute_result"
    }
   ],
   "source": [
    "def percConvert(ser):\n",
    "  return ser/float(ser[-1])\n",
    "pd.crosstab(referral[\"is_referral\"],referral[\"country\"],margins=True).apply(percConvert, axis=1)"
   ]
  },
  {
   "cell_type": "markdown",
   "metadata": {},
   "source": [
    "# metrics definition"
   ]
  },
  {
   "cell_type": "code",
   "execution_count": 113,
   "metadata": {
    "collapsed": true
   },
   "outputs": [],
   "source": [
    "def calcMetrics(df):\n",
    "    ctr=df['clicked'].sum()/df['shown'].sum()\n",
    "    conv=df['converted'].sum()/df['shown'].sum()\n",
    "    roi=df['total_revenue'].sum()/((df['clicked']*df['avg_cost_per_click']).sum())\n",
    "    return pd.Series({'ctr':ctr,\n",
    "                      'conv': conv,\n",
    "                      'roi':roi})"
   ]
  }
 ],
 "metadata": {
  "kernelspec": {
   "display_name": "Python 3",
   "language": "python",
   "name": "python3"
  },
  "language_info": {
   "codemirror_mode": {
    "name": "ipython",
    "version": 3
   },
   "file_extension": ".py",
   "mimetype": "text/x-python",
   "name": "python",
   "nbconvert_exporter": "python",
   "pygments_lexer": "ipython3",
   "version": "3.5.2"
  }
 },
 "nbformat": 4,
 "nbformat_minor": 2
}
