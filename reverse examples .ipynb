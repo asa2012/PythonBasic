{
 "cells": [
  {
   "cell_type": "code",
   "execution_count": 5,
   "metadata": {
    "collapsed": false,
    "deletable": true,
    "editable": true
   },
   "outputs": [
    {
     "name": "stdout",
     "output_type": "stream",
     "text": [
      "6791\n"
     ]
    }
   ],
   "source": [
    "#reserve a int \n",
    "x=1976\n",
    "result=0\n",
    "while x>10:\n",
    "    result=result*10+x%10\n",
    "    x=(x-x%10)/10\n",
    "result=result*10+x\n",
    "print(int(result))"
   ]
  },
  {
   "cell_type": "code",
   "execution_count": 20,
   "metadata": {
    "collapsed": false
   },
   "outputs": [
    {
     "name": "stdout",
     "output_type": "stream",
     "text": [
      "Redmond in living I'm \n"
     ]
    }
   ],
   "source": [
    "#reverse a sentense\n",
    "line =\"I'm living in Redmond\"\n",
    "words=line.split(\" \")\n",
    "output=\"\"\n",
    "i=len(words)\n",
    "while i>0:\n",
    "    output=output+words[i-1]+\" \"\n",
    "    i=i-1\n",
    "print(output)\n"
   ]
  },
  {
   "cell_type": "code",
   "execution_count": null,
   "metadata": {
    "collapsed": true
   },
   "outputs": [],
   "source": [
    "#find 2 values sum up equal to target value\n"
   ]
  }
 ],
 "metadata": {
  "kernelspec": {
   "display_name": "Python 3",
   "language": "python",
   "name": "python3"
  },
  "language_info": {
   "codemirror_mode": {
    "name": "ipython",
    "version": 3
   },
   "file_extension": ".py",
   "mimetype": "text/x-python",
   "name": "python",
   "nbconvert_exporter": "python",
   "pygments_lexer": "ipython3",
   "version": "3.5.2"
  }
 },
 "nbformat": 4,
 "nbformat_minor": 2
}
