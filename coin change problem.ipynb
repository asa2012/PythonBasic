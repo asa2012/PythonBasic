{
 "cells": [
  {
   "cell_type": "code",
   "execution_count": 8,
   "metadata": {
    "collapsed": true,
    "deletable": true,
    "editable": true
   },
   "outputs": [],
   "source": [
    "coin=[1,2,10]\n",
    "ll=len(coin)\n",
    "x=13"
   ]
  },
  {
   "cell_type": "code",
   "execution_count": 9,
   "metadata": {
    "collapsed": false,
    "deletable": true,
    "editable": true
   },
   "outputs": [
    {
     "name": "stdout",
     "output_type": "stream",
     "text": [
      "[13, 6, 1]\n"
     ]
    }
   ],
   "source": [
    "coin_range=[]\n",
    "for i in range(ll):\n",
    "    coin_range.append(int(x/coin[i]))\n",
    "    \n",
    "print(coin_range)"
   ]
  },
  {
   "cell_type": "code",
   "execution_count": 11,
   "metadata": {
    "collapsed": false,
    "deletable": true,
    "editable": true
   },
   "outputs": [
    {
     "name": "stdout",
     "output_type": "stream",
     "text": [
      "needs [1,1,1] of coins to get $13.\n",
      "needs [1,6,0] of coins to get $13.\n",
      "needs [3,0,1] of coins to get $13.\n",
      "needs [3,5,0] of coins to get $13.\n",
      "needs [5,4,0] of coins to get $13.\n",
      "needs [7,3,0] of coins to get $13.\n",
      "needs [9,2,0] of coins to get $13.\n",
      "needs [11,1,0] of coins to get $13.\n",
      "needs [13,0,0] of coins to get $13.\n",
      "9\n"
     ]
    }
   ],
   "source": [
    "result=0\n",
    "combination =0 \n",
    "for i in range(coin_range[0]+1):\n",
    "    #print(i)\n",
    "    #print(coin_range[i])\n",
    "    for j in range(coin_range[1]+1):\n",
    "        for h in range(coin_range[2]+1):    \n",
    "            result=i*coin[0]+j*coin[1]+h*coin[2]\n",
    "            \n",
    "            if result==x:\n",
    "                combination=combination+1\n",
    "        #print(result)\n",
    "        #print(i)\n",
    "                print('needs [{0},{1},{2}] of coins to get ${3}.'.format(i,j,h,x))\n",
    "        #break\n",
    "    \n",
    "print(combination)"
   ]
  }
 ],
 "metadata": {
  "kernelspec": {
   "display_name": "Python 3",
   "language": "python",
   "name": "python3"
  },
  "language_info": {
   "codemirror_mode": {
    "name": "ipython",
    "version": 3
   },
   "file_extension": ".py",
   "mimetype": "text/x-python",
   "name": "python",
   "nbconvert_exporter": "python",
   "pygments_lexer": "ipython3",
   "version": "3.5.2"
  }
 },
 "nbformat": 4,
 "nbformat_minor": 2
}
